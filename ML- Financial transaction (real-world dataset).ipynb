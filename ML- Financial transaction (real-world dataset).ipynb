{
 "cells": [
  {
   "cell_type": "code",
   "execution_count": 1,
   "metadata": {
    "id": "3lfsVGjGN8Hy"
   },
   "outputs": [],
   "source": [
    "import numpy as np # linear algebra\n",
    "import pandas as pd # data processing, CSV file I/O (e.g. pd.read_csv), data manipulation as in SQL\n",
    "import matplotlib.pyplot as plt # this is used for the plot the graph\n",
    "import seaborn as sns # used for plot interactive graph. I like it most forplot\n",
    "from sklearn.model_selection import train_test_split # to split the data into two parts\n",
    "from sklearn import metrics # for the check the error and accuracy of the model\n",
    "from sklearn.linear_model import LinearRegression\n",
    "from sklearn.metrics import r2_score,mean_squared_error\n",
    "import seaborn as sns"
   ]
  },
  {
   "cell_type": "code",
   "execution_count": 2,
   "metadata": {
    "collapsed": true,
    "id": "YOHppGOwN8IC"
   },
   "outputs": [
    {
     "ename": "FileNotFoundError",
     "evalue": "[Errno 2] No such file or directory: 'Book1test.csv'",
     "output_type": "error",
     "traceback": [
      "\u001b[1;31m---------------------------------------------------------------------------\u001b[0m",
      "\u001b[1;31mFileNotFoundError\u001b[0m                         Traceback (most recent call last)",
      "\u001b[1;32m<ipython-input-2-5b4efae08c59>\u001b[0m in \u001b[0;36m<module>\u001b[1;34m\u001b[0m\n\u001b[1;32m----> 1\u001b[1;33m \u001b[0mdf\u001b[0m \u001b[1;33m=\u001b[0m \u001b[0mpd\u001b[0m\u001b[1;33m.\u001b[0m\u001b[0mread_csv\u001b[0m\u001b[1;33m(\u001b[0m\u001b[1;34m\"Book1test.csv\"\u001b[0m\u001b[1;33m)\u001b[0m \u001b[1;31m### Novatti database\u001b[0m\u001b[1;33m\u001b[0m\u001b[1;33m\u001b[0m\u001b[0m\n\u001b[0m",
      "\u001b[1;32m~\\Anaconda3\\lib\\site-packages\\pandas\\io\\parsers.py\u001b[0m in \u001b[0;36mread_csv\u001b[1;34m(filepath_or_buffer, sep, delimiter, header, names, index_col, usecols, squeeze, prefix, mangle_dupe_cols, dtype, engine, converters, true_values, false_values, skipinitialspace, skiprows, skipfooter, nrows, na_values, keep_default_na, na_filter, verbose, skip_blank_lines, parse_dates, infer_datetime_format, keep_date_col, date_parser, dayfirst, cache_dates, iterator, chunksize, compression, thousands, decimal, lineterminator, quotechar, quoting, doublequote, escapechar, comment, encoding, dialect, error_bad_lines, warn_bad_lines, delim_whitespace, low_memory, memory_map, float_precision, storage_options)\u001b[0m\n\u001b[0;32m    608\u001b[0m     \u001b[0mkwds\u001b[0m\u001b[1;33m.\u001b[0m\u001b[0mupdate\u001b[0m\u001b[1;33m(\u001b[0m\u001b[0mkwds_defaults\u001b[0m\u001b[1;33m)\u001b[0m\u001b[1;33m\u001b[0m\u001b[1;33m\u001b[0m\u001b[0m\n\u001b[0;32m    609\u001b[0m \u001b[1;33m\u001b[0m\u001b[0m\n\u001b[1;32m--> 610\u001b[1;33m     \u001b[1;32mreturn\u001b[0m \u001b[0m_read\u001b[0m\u001b[1;33m(\u001b[0m\u001b[0mfilepath_or_buffer\u001b[0m\u001b[1;33m,\u001b[0m \u001b[0mkwds\u001b[0m\u001b[1;33m)\u001b[0m\u001b[1;33m\u001b[0m\u001b[1;33m\u001b[0m\u001b[0m\n\u001b[0m\u001b[0;32m    611\u001b[0m \u001b[1;33m\u001b[0m\u001b[0m\n\u001b[0;32m    612\u001b[0m \u001b[1;33m\u001b[0m\u001b[0m\n",
      "\u001b[1;32m~\\Anaconda3\\lib\\site-packages\\pandas\\io\\parsers.py\u001b[0m in \u001b[0;36m_read\u001b[1;34m(filepath_or_buffer, kwds)\u001b[0m\n\u001b[0;32m    460\u001b[0m \u001b[1;33m\u001b[0m\u001b[0m\n\u001b[0;32m    461\u001b[0m     \u001b[1;31m# Create the parser.\u001b[0m\u001b[1;33m\u001b[0m\u001b[1;33m\u001b[0m\u001b[1;33m\u001b[0m\u001b[0m\n\u001b[1;32m--> 462\u001b[1;33m     \u001b[0mparser\u001b[0m \u001b[1;33m=\u001b[0m \u001b[0mTextFileReader\u001b[0m\u001b[1;33m(\u001b[0m\u001b[0mfilepath_or_buffer\u001b[0m\u001b[1;33m,\u001b[0m \u001b[1;33m**\u001b[0m\u001b[0mkwds\u001b[0m\u001b[1;33m)\u001b[0m\u001b[1;33m\u001b[0m\u001b[1;33m\u001b[0m\u001b[0m\n\u001b[0m\u001b[0;32m    463\u001b[0m \u001b[1;33m\u001b[0m\u001b[0m\n\u001b[0;32m    464\u001b[0m     \u001b[1;32mif\u001b[0m \u001b[0mchunksize\u001b[0m \u001b[1;32mor\u001b[0m \u001b[0miterator\u001b[0m\u001b[1;33m:\u001b[0m\u001b[1;33m\u001b[0m\u001b[1;33m\u001b[0m\u001b[0m\n",
      "\u001b[1;32m~\\Anaconda3\\lib\\site-packages\\pandas\\io\\parsers.py\u001b[0m in \u001b[0;36m__init__\u001b[1;34m(self, f, engine, **kwds)\u001b[0m\n\u001b[0;32m    817\u001b[0m             \u001b[0mself\u001b[0m\u001b[1;33m.\u001b[0m\u001b[0moptions\u001b[0m\u001b[1;33m[\u001b[0m\u001b[1;34m\"has_index_names\"\u001b[0m\u001b[1;33m]\u001b[0m \u001b[1;33m=\u001b[0m \u001b[0mkwds\u001b[0m\u001b[1;33m[\u001b[0m\u001b[1;34m\"has_index_names\"\u001b[0m\u001b[1;33m]\u001b[0m\u001b[1;33m\u001b[0m\u001b[1;33m\u001b[0m\u001b[0m\n\u001b[0;32m    818\u001b[0m \u001b[1;33m\u001b[0m\u001b[0m\n\u001b[1;32m--> 819\u001b[1;33m         \u001b[0mself\u001b[0m\u001b[1;33m.\u001b[0m\u001b[0m_engine\u001b[0m \u001b[1;33m=\u001b[0m \u001b[0mself\u001b[0m\u001b[1;33m.\u001b[0m\u001b[0m_make_engine\u001b[0m\u001b[1;33m(\u001b[0m\u001b[0mself\u001b[0m\u001b[1;33m.\u001b[0m\u001b[0mengine\u001b[0m\u001b[1;33m)\u001b[0m\u001b[1;33m\u001b[0m\u001b[1;33m\u001b[0m\u001b[0m\n\u001b[0m\u001b[0;32m    820\u001b[0m \u001b[1;33m\u001b[0m\u001b[0m\n\u001b[0;32m    821\u001b[0m     \u001b[1;32mdef\u001b[0m \u001b[0mclose\u001b[0m\u001b[1;33m(\u001b[0m\u001b[0mself\u001b[0m\u001b[1;33m)\u001b[0m\u001b[1;33m:\u001b[0m\u001b[1;33m\u001b[0m\u001b[1;33m\u001b[0m\u001b[0m\n",
      "\u001b[1;32m~\\Anaconda3\\lib\\site-packages\\pandas\\io\\parsers.py\u001b[0m in \u001b[0;36m_make_engine\u001b[1;34m(self, engine)\u001b[0m\n\u001b[0;32m   1048\u001b[0m             )\n\u001b[0;32m   1049\u001b[0m         \u001b[1;31m# error: Too many arguments for \"ParserBase\"\u001b[0m\u001b[1;33m\u001b[0m\u001b[1;33m\u001b[0m\u001b[1;33m\u001b[0m\u001b[0m\n\u001b[1;32m-> 1050\u001b[1;33m         \u001b[1;32mreturn\u001b[0m \u001b[0mmapping\u001b[0m\u001b[1;33m[\u001b[0m\u001b[0mengine\u001b[0m\u001b[1;33m]\u001b[0m\u001b[1;33m(\u001b[0m\u001b[0mself\u001b[0m\u001b[1;33m.\u001b[0m\u001b[0mf\u001b[0m\u001b[1;33m,\u001b[0m \u001b[1;33m**\u001b[0m\u001b[0mself\u001b[0m\u001b[1;33m.\u001b[0m\u001b[0moptions\u001b[0m\u001b[1;33m)\u001b[0m  \u001b[1;31m# type: ignore[call-arg]\u001b[0m\u001b[1;33m\u001b[0m\u001b[1;33m\u001b[0m\u001b[0m\n\u001b[0m\u001b[0;32m   1051\u001b[0m \u001b[1;33m\u001b[0m\u001b[0m\n\u001b[0;32m   1052\u001b[0m     \u001b[1;32mdef\u001b[0m \u001b[0m_failover_to_python\u001b[0m\u001b[1;33m(\u001b[0m\u001b[0mself\u001b[0m\u001b[1;33m)\u001b[0m\u001b[1;33m:\u001b[0m\u001b[1;33m\u001b[0m\u001b[1;33m\u001b[0m\u001b[0m\n",
      "\u001b[1;32m~\\Anaconda3\\lib\\site-packages\\pandas\\io\\parsers.py\u001b[0m in \u001b[0;36m__init__\u001b[1;34m(self, src, **kwds)\u001b[0m\n\u001b[0;32m   1865\u001b[0m \u001b[1;33m\u001b[0m\u001b[0m\n\u001b[0;32m   1866\u001b[0m         \u001b[1;31m# open handles\u001b[0m\u001b[1;33m\u001b[0m\u001b[1;33m\u001b[0m\u001b[1;33m\u001b[0m\u001b[0m\n\u001b[1;32m-> 1867\u001b[1;33m         \u001b[0mself\u001b[0m\u001b[1;33m.\u001b[0m\u001b[0m_open_handles\u001b[0m\u001b[1;33m(\u001b[0m\u001b[0msrc\u001b[0m\u001b[1;33m,\u001b[0m \u001b[0mkwds\u001b[0m\u001b[1;33m)\u001b[0m\u001b[1;33m\u001b[0m\u001b[1;33m\u001b[0m\u001b[0m\n\u001b[0m\u001b[0;32m   1868\u001b[0m         \u001b[1;32massert\u001b[0m \u001b[0mself\u001b[0m\u001b[1;33m.\u001b[0m\u001b[0mhandles\u001b[0m \u001b[1;32mis\u001b[0m \u001b[1;32mnot\u001b[0m \u001b[1;32mNone\u001b[0m\u001b[1;33m\u001b[0m\u001b[1;33m\u001b[0m\u001b[0m\n\u001b[0;32m   1869\u001b[0m         \u001b[1;32mfor\u001b[0m \u001b[0mkey\u001b[0m \u001b[1;32min\u001b[0m \u001b[1;33m(\u001b[0m\u001b[1;34m\"storage_options\"\u001b[0m\u001b[1;33m,\u001b[0m \u001b[1;34m\"encoding\"\u001b[0m\u001b[1;33m,\u001b[0m \u001b[1;34m\"memory_map\"\u001b[0m\u001b[1;33m,\u001b[0m \u001b[1;34m\"compression\"\u001b[0m\u001b[1;33m)\u001b[0m\u001b[1;33m:\u001b[0m\u001b[1;33m\u001b[0m\u001b[1;33m\u001b[0m\u001b[0m\n",
      "\u001b[1;32m~\\Anaconda3\\lib\\site-packages\\pandas\\io\\parsers.py\u001b[0m in \u001b[0;36m_open_handles\u001b[1;34m(self, src, kwds)\u001b[0m\n\u001b[0;32m   1360\u001b[0m         \u001b[0mLet\u001b[0m \u001b[0mthe\u001b[0m \u001b[0mreaders\u001b[0m \u001b[0mopen\u001b[0m \u001b[0mIOHanldes\u001b[0m \u001b[0mafter\u001b[0m \u001b[0mthey\u001b[0m \u001b[0mare\u001b[0m \u001b[0mdone\u001b[0m \u001b[1;32mwith\u001b[0m \u001b[0mtheir\u001b[0m \u001b[0mpotential\u001b[0m \u001b[0mraises\u001b[0m\u001b[1;33m.\u001b[0m\u001b[1;33m\u001b[0m\u001b[1;33m\u001b[0m\u001b[0m\n\u001b[0;32m   1361\u001b[0m         \"\"\"\n\u001b[1;32m-> 1362\u001b[1;33m         self.handles = get_handle(\n\u001b[0m\u001b[0;32m   1363\u001b[0m             \u001b[0msrc\u001b[0m\u001b[1;33m,\u001b[0m\u001b[1;33m\u001b[0m\u001b[1;33m\u001b[0m\u001b[0m\n\u001b[0;32m   1364\u001b[0m             \u001b[1;34m\"r\"\u001b[0m\u001b[1;33m,\u001b[0m\u001b[1;33m\u001b[0m\u001b[1;33m\u001b[0m\u001b[0m\n",
      "\u001b[1;32m~\\Anaconda3\\lib\\site-packages\\pandas\\io\\common.py\u001b[0m in \u001b[0;36mget_handle\u001b[1;34m(path_or_buf, mode, encoding, compression, memory_map, is_text, errors, storage_options)\u001b[0m\n\u001b[0;32m    640\u001b[0m                 \u001b[0merrors\u001b[0m \u001b[1;33m=\u001b[0m \u001b[1;34m\"replace\"\u001b[0m\u001b[1;33m\u001b[0m\u001b[1;33m\u001b[0m\u001b[0m\n\u001b[0;32m    641\u001b[0m             \u001b[1;31m# Encoding\u001b[0m\u001b[1;33m\u001b[0m\u001b[1;33m\u001b[0m\u001b[1;33m\u001b[0m\u001b[0m\n\u001b[1;32m--> 642\u001b[1;33m             handle = open(\n\u001b[0m\u001b[0;32m    643\u001b[0m                 \u001b[0mhandle\u001b[0m\u001b[1;33m,\u001b[0m\u001b[1;33m\u001b[0m\u001b[1;33m\u001b[0m\u001b[0m\n\u001b[0;32m    644\u001b[0m                 \u001b[0mioargs\u001b[0m\u001b[1;33m.\u001b[0m\u001b[0mmode\u001b[0m\u001b[1;33m,\u001b[0m\u001b[1;33m\u001b[0m\u001b[1;33m\u001b[0m\u001b[0m\n",
      "\u001b[1;31mFileNotFoundError\u001b[0m: [Errno 2] No such file or directory: 'Book1test.csv'"
     ]
    }
   ],
   "source": [
    "df = pd.read_csv(\"Book1test.csv\")"
   ]
  },
  {
   "cell_type": "code",
   "execution_count": 3,
   "metadata": {
    "colab": {
     "base_uri": "https://localhost:8080/",
     "height": 328
    },
    "collapsed": true,
    "id": "0DkW8WFNN8IF",
    "outputId": "2a653e55-ebd3-40b9-e312-d9594b02a413"
   },
   "outputs": [
    {
     "data": {
      "text/html": [
       "<div>\n",
       "<style scoped>\n",
       "    .dataframe tbody tr th:only-of-type {\n",
       "        vertical-align: middle;\n",
       "    }\n",
       "\n",
       "    .dataframe tbody tr th {\n",
       "        vertical-align: top;\n",
       "    }\n",
       "\n",
       "    .dataframe thead th {\n",
       "        text-align: right;\n",
       "    }\n",
       "</style>\n",
       "<table border=\"1\" class=\"dataframe\">\n",
       "  <thead>\n",
       "    <tr style=\"text-align: right;\">\n",
       "      <th></th>\n",
       "      <th>id</th>\n",
       "      <th>trans_type</th>\n",
       "      <th>trans_ref</th>\n",
       "      <th>status</th>\n",
       "      <th>ppan</th>\n",
       "      <th>cts</th>\n",
       "      <th>bsb</th>\n",
       "      <th>account_no</th>\n",
       "      <th>indicator</th>\n",
       "      <th>trans_code</th>\n",
       "      <th>...</th>\n",
       "      <th>remitter_name</th>\n",
       "      <th>withhold_tax_amount</th>\n",
       "      <th>trans_data_id</th>\n",
       "      <th>stan</th>\n",
       "      <th>post_date</th>\n",
       "      <th>approval_code</th>\n",
       "      <th>hold_number</th>\n",
       "      <th>exchange_rate</th>\n",
       "      <th>ext_trans_no</th>\n",
       "      <th>error_msg</th>\n",
       "    </tr>\n",
       "  </thead>\n",
       "  <tbody>\n",
       "    <tr>\n",
       "      <th>0</th>\n",
       "      <td>94201</td>\n",
       "      <td>Monthly fee (base)</td>\n",
       "      <td>94200</td>\n",
       "      <td>SUCCESS</td>\n",
       "      <td>482003TZEDFE4612</td>\n",
       "      <td>16/03/2021 0:00</td>\n",
       "      <td>NaN</td>\n",
       "      <td>NaN</td>\n",
       "      <td>NaN</td>\n",
       "      <td>32S</td>\n",
       "      <td>...</td>\n",
       "      <td>NaN</td>\n",
       "      <td>NaN</td>\n",
       "      <td>93924</td>\n",
       "      <td>NaN</td>\n",
       "      <td>4/06/2021</td>\n",
       "      <td>0.0</td>\n",
       "      <td>NaN</td>\n",
       "      <td>1.0</td>\n",
       "      <td>NaN</td>\n",
       "      <td>NaN</td>\n",
       "    </tr>\n",
       "    <tr>\n",
       "      <th>1</th>\n",
       "      <td>85017</td>\n",
       "      <td>Monthly fee (base)</td>\n",
       "      <td>85016</td>\n",
       "      <td>SUCCESS</td>\n",
       "      <td>482003BBGAVJ4273</td>\n",
       "      <td>24/03/2021 0:00</td>\n",
       "      <td>NaN</td>\n",
       "      <td>NaN</td>\n",
       "      <td>NaN</td>\n",
       "      <td>32S</td>\n",
       "      <td>...</td>\n",
       "      <td>NaN</td>\n",
       "      <td>NaN</td>\n",
       "      <td>84759</td>\n",
       "      <td>NaN</td>\n",
       "      <td>20/05/2021</td>\n",
       "      <td>0.0</td>\n",
       "      <td>NaN</td>\n",
       "      <td>1.0</td>\n",
       "      <td>NaN</td>\n",
       "      <td>NaN</td>\n",
       "    </tr>\n",
       "    <tr>\n",
       "      <th>2</th>\n",
       "      <td>63092</td>\n",
       "      <td>Purchase</td>\n",
       "      <td>63091</td>\n",
       "      <td>SUCCESS</td>\n",
       "      <td>482003EVIRMM9816</td>\n",
       "      <td>31/03/2021 0:00</td>\n",
       "      <td>NaN</td>\n",
       "      <td>NaN</td>\n",
       "      <td>NaN</td>\n",
       "      <td>205</td>\n",
       "      <td>...</td>\n",
       "      <td>NaN</td>\n",
       "      <td>NaN</td>\n",
       "      <td>62867</td>\n",
       "      <td>NaN</td>\n",
       "      <td>8/04/2021</td>\n",
       "      <td>428379.0</td>\n",
       "      <td>922671898.0</td>\n",
       "      <td>1.0</td>\n",
       "      <td>NaN</td>\n",
       "      <td>NaN</td>\n",
       "    </tr>\n",
       "    <tr>\n",
       "      <th>3</th>\n",
       "      <td>62415</td>\n",
       "      <td>Purchase</td>\n",
       "      <td>62414</td>\n",
       "      <td>SUCCESS</td>\n",
       "      <td>482003GBDCSP2795</td>\n",
       "      <td>29/03/2021 0:00</td>\n",
       "      <td>NaN</td>\n",
       "      <td>NaN</td>\n",
       "      <td>NaN</td>\n",
       "      <td>205</td>\n",
       "      <td>...</td>\n",
       "      <td>NaN</td>\n",
       "      <td>NaN</td>\n",
       "      <td>62190</td>\n",
       "      <td>NaN</td>\n",
       "      <td>7/04/2021</td>\n",
       "      <td>431134.0</td>\n",
       "      <td>922127300.0</td>\n",
       "      <td>1.0</td>\n",
       "      <td>NaN</td>\n",
       "      <td>NaN</td>\n",
       "    </tr>\n",
       "    <tr>\n",
       "      <th>4</th>\n",
       "      <td>62174</td>\n",
       "      <td>Monthly fee (base)</td>\n",
       "      <td>62173</td>\n",
       "      <td>SUCCESS</td>\n",
       "      <td>482003EILBWY3559</td>\n",
       "      <td>23/03/2021 0:00</td>\n",
       "      <td>NaN</td>\n",
       "      <td>NaN</td>\n",
       "      <td>NaN</td>\n",
       "      <td>32S</td>\n",
       "      <td>...</td>\n",
       "      <td>NaN</td>\n",
       "      <td>NaN</td>\n",
       "      <td>61950</td>\n",
       "      <td>NaN</td>\n",
       "      <td>6/04/2021</td>\n",
       "      <td>0.0</td>\n",
       "      <td>NaN</td>\n",
       "      <td>1.0</td>\n",
       "      <td>NaN</td>\n",
       "      <td>NaN</td>\n",
       "    </tr>\n",
       "  </tbody>\n",
       "</table>\n",
       "<p>5 rows × 26 columns</p>\n",
       "</div>"
      ],
      "text/plain": [
       "      id          trans_type  trans_ref   status              ppan  \\\n",
       "0  94201  Monthly fee (base)      94200  SUCCESS  482003TZEDFE4612   \n",
       "1  85017  Monthly fee (base)      85016  SUCCESS  482003BBGAVJ4273   \n",
       "2  63092            Purchase      63091  SUCCESS  482003EVIRMM9816   \n",
       "3  62415            Purchase      62414  SUCCESS  482003GBDCSP2795   \n",
       "4  62174  Monthly fee (base)      62173  SUCCESS  482003EILBWY3559   \n",
       "\n",
       "               cts  bsb  account_no  indicator trans_code  ... remitter_name  \\\n",
       "0  16/03/2021 0:00  NaN         NaN        NaN        32S  ...           NaN   \n",
       "1  24/03/2021 0:00  NaN         NaN        NaN        32S  ...           NaN   \n",
       "2  31/03/2021 0:00  NaN         NaN        NaN        205  ...           NaN   \n",
       "3  29/03/2021 0:00  NaN         NaN        NaN        205  ...           NaN   \n",
       "4  23/03/2021 0:00  NaN         NaN        NaN        32S  ...           NaN   \n",
       "\n",
       "   withhold_tax_amount trans_data_id stan   post_date  approval_code  \\\n",
       "0                  NaN         93924  NaN   4/06/2021            0.0   \n",
       "1                  NaN         84759  NaN  20/05/2021            0.0   \n",
       "2                  NaN         62867  NaN   8/04/2021       428379.0   \n",
       "3                  NaN         62190  NaN   7/04/2021       431134.0   \n",
       "4                  NaN         61950  NaN   6/04/2021            0.0   \n",
       "\n",
       "   hold_number  exchange_rate  ext_trans_no  error_msg  \n",
       "0          NaN            1.0           NaN        NaN  \n",
       "1          NaN            1.0           NaN        NaN  \n",
       "2  922671898.0            1.0           NaN        NaN  \n",
       "3  922127300.0            1.0           NaN        NaN  \n",
       "4          NaN            1.0           NaN        NaN  \n",
       "\n",
       "[5 rows x 26 columns]"
      ]
     },
     "execution_count": 3,
     "metadata": {},
     "output_type": "execute_result"
    }
   ],
   "source": [
    "df.head() # displaying first 5 rows of the dataset"
   ]
  },
  {
   "cell_type": "code",
   "execution_count": 4,
   "metadata": {
    "colab": {
     "base_uri": "https://localhost:8080/"
    },
    "id": "i6b0lF5MPR04",
    "outputId": "4d3cbd52-264c-4171-8ba6-5e39facd3dcc"
   },
   "outputs": [
    {
     "data": {
      "text/plain": [
       "(8963, 26)"
      ]
     },
     "execution_count": 4,
     "metadata": {},
     "output_type": "execute_result"
    }
   ],
   "source": [
    "df.shape"
   ]
  },
  {
   "cell_type": "code",
   "execution_count": 5,
   "metadata": {
    "colab": {
     "base_uri": "https://localhost:8080/"
    },
    "id": "RpyzP6vRPXYR",
    "outputId": "96f17113-2127-4259-f9de-34c464f13ba0"
   },
   "outputs": [
    {
     "data": {
      "text/plain": [
       "Index(['id', 'trans_type', 'trans_ref', 'status', 'ppan', 'cts', 'bsb',\n",
       "       'account_no', 'indicator', 'trans_code', 'currency', 'amount',\n",
       "       'description', 'lodgement_ref', 'remitter_bsb', 'remitter_account_no',\n",
       "       'remitter_name', 'withhold_tax_amount', 'trans_data_id', 'stan',\n",
       "       'post_date', 'approval_code', 'hold_number', 'exchange_rate',\n",
       "       'ext_trans_no', 'error_msg'],\n",
       "      dtype='object')"
      ]
     },
     "execution_count": 5,
     "metadata": {},
     "output_type": "execute_result"
    }
   ],
   "source": [
    "df.columns"
   ]
  },
  {
   "cell_type": "code",
   "execution_count": 6,
   "metadata": {
    "colab": {
     "base_uri": "https://localhost:8080/",
     "height": 318
    },
    "collapsed": true,
    "id": "u5ll-zy2RqG2",
    "outputId": "08ac94e2-5fcd-45ac-bf0e-5b0c45465066"
   },
   "outputs": [
    {
     "data": {
      "text/html": [
       "<div>\n",
       "<style scoped>\n",
       "    .dataframe tbody tr th:only-of-type {\n",
       "        vertical-align: middle;\n",
       "    }\n",
       "\n",
       "    .dataframe tbody tr th {\n",
       "        vertical-align: top;\n",
       "    }\n",
       "\n",
       "    .dataframe thead th {\n",
       "        text-align: right;\n",
       "    }\n",
       "</style>\n",
       "<table border=\"1\" class=\"dataframe\">\n",
       "  <thead>\n",
       "    <tr style=\"text-align: right;\">\n",
       "      <th></th>\n",
       "      <th>id</th>\n",
       "      <th>trans_ref</th>\n",
       "      <th>account_no</th>\n",
       "      <th>indicator</th>\n",
       "      <th>amount</th>\n",
       "      <th>remitter_account_no</th>\n",
       "      <th>withhold_tax_amount</th>\n",
       "      <th>trans_data_id</th>\n",
       "      <th>stan</th>\n",
       "      <th>approval_code</th>\n",
       "      <th>hold_number</th>\n",
       "      <th>exchange_rate</th>\n",
       "      <th>error_msg</th>\n",
       "    </tr>\n",
       "  </thead>\n",
       "  <tbody>\n",
       "    <tr>\n",
       "      <th>count</th>\n",
       "      <td>8963.000000</td>\n",
       "      <td>8963.000000</td>\n",
       "      <td>1.232000e+03</td>\n",
       "      <td>0.0</td>\n",
       "      <td>8963.000000</td>\n",
       "      <td>1.171000e+03</td>\n",
       "      <td>1106.0</td>\n",
       "      <td>8963.000000</td>\n",
       "      <td>0.0</td>\n",
       "      <td>7731.000000</td>\n",
       "      <td>7.548000e+03</td>\n",
       "      <td>7731.000000</td>\n",
       "      <td>0.0</td>\n",
       "    </tr>\n",
       "    <tr>\n",
       "      <th>mean</th>\n",
       "      <td>56580.703671</td>\n",
       "      <td>56579.703671</td>\n",
       "      <td>8.096503e+08</td>\n",
       "      <td>NaN</td>\n",
       "      <td>171.966392</td>\n",
       "      <td>4.656705e+07</td>\n",
       "      <td>0.0</td>\n",
       "      <td>56366.849158</td>\n",
       "      <td>NaN</td>\n",
       "      <td>542252.716854</td>\n",
       "      <td>9.158836e+08</td>\n",
       "      <td>0.990428</td>\n",
       "      <td>NaN</td>\n",
       "    </tr>\n",
       "    <tr>\n",
       "      <th>std</th>\n",
       "      <td>2683.700466</td>\n",
       "      <td>2683.700466</td>\n",
       "      <td>2.800201e+08</td>\n",
       "      <td>NaN</td>\n",
       "      <td>532.380507</td>\n",
       "      <td>1.919821e+08</td>\n",
       "      <td>0.0</td>\n",
       "      <td>2675.133905</td>\n",
       "      <td>NaN</td>\n",
       "      <td>266582.112685</td>\n",
       "      <td>4.916390e+06</td>\n",
       "      <td>0.097373</td>\n",
       "      <td>NaN</td>\n",
       "    </tr>\n",
       "    <tr>\n",
       "      <th>min</th>\n",
       "      <td>51605.000000</td>\n",
       "      <td>51604.000000</td>\n",
       "      <td>1.858430e+06</td>\n",
       "      <td>NaN</td>\n",
       "      <td>0.010000</td>\n",
       "      <td>1.900000e+02</td>\n",
       "      <td>0.0</td>\n",
       "      <td>51410.000000</td>\n",
       "      <td>NaN</td>\n",
       "      <td>0.000000</td>\n",
       "      <td>9.048009e+08</td>\n",
       "      <td>0.000000</td>\n",
       "      <td>NaN</td>\n",
       "    </tr>\n",
       "    <tr>\n",
       "      <th>25%</th>\n",
       "      <td>54297.500000</td>\n",
       "      <td>54296.500000</td>\n",
       "      <td>6.519169e+08</td>\n",
       "      <td>NaN</td>\n",
       "      <td>13.325000</td>\n",
       "      <td>2.729700e+04</td>\n",
       "      <td>0.0</td>\n",
       "      <td>54093.500000</td>\n",
       "      <td>NaN</td>\n",
       "      <td>320580.000000</td>\n",
       "      <td>9.121022e+08</td>\n",
       "      <td>1.000000</td>\n",
       "      <td>NaN</td>\n",
       "    </tr>\n",
       "    <tr>\n",
       "      <th>50%</th>\n",
       "      <td>56580.000000</td>\n",
       "      <td>56579.000000</td>\n",
       "      <td>9.921102e+08</td>\n",
       "      <td>NaN</td>\n",
       "      <td>43.950000</td>\n",
       "      <td>4.880800e+04</td>\n",
       "      <td>0.0</td>\n",
       "      <td>56362.000000</td>\n",
       "      <td>NaN</td>\n",
       "      <td>544584.000000</td>\n",
       "      <td>9.167816e+08</td>\n",
       "      <td>1.000000</td>\n",
       "      <td>NaN</td>\n",
       "    </tr>\n",
       "    <tr>\n",
       "      <th>75%</th>\n",
       "      <td>58831.500000</td>\n",
       "      <td>58830.500000</td>\n",
       "      <td>9.961705e+08</td>\n",
       "      <td>NaN</td>\n",
       "      <td>109.915000</td>\n",
       "      <td>6.689100e+04</td>\n",
       "      <td>0.0</td>\n",
       "      <td>58611.500000</td>\n",
       "      <td>NaN</td>\n",
       "      <td>769673.500000</td>\n",
       "      <td>9.200462e+08</td>\n",
       "      <td>1.000000</td>\n",
       "      <td>NaN</td>\n",
       "    </tr>\n",
       "    <tr>\n",
       "      <th>max</th>\n",
       "      <td>94201.000000</td>\n",
       "      <td>94200.000000</td>\n",
       "      <td>9.999994e+08</td>\n",
       "      <td>NaN</td>\n",
       "      <td>9970.730000</td>\n",
       "      <td>8.381493e+08</td>\n",
       "      <td>0.0</td>\n",
       "      <td>93924.000000</td>\n",
       "      <td>NaN</td>\n",
       "      <td>999861.000000</td>\n",
       "      <td>9.230254e+08</td>\n",
       "      <td>1.000000</td>\n",
       "      <td>NaN</td>\n",
       "    </tr>\n",
       "  </tbody>\n",
       "</table>\n",
       "</div>"
      ],
      "text/plain": [
       "                 id     trans_ref    account_no  indicator       amount  \\\n",
       "count   8963.000000   8963.000000  1.232000e+03        0.0  8963.000000   \n",
       "mean   56580.703671  56579.703671  8.096503e+08        NaN   171.966392   \n",
       "std     2683.700466   2683.700466  2.800201e+08        NaN   532.380507   \n",
       "min    51605.000000  51604.000000  1.858430e+06        NaN     0.010000   \n",
       "25%    54297.500000  54296.500000  6.519169e+08        NaN    13.325000   \n",
       "50%    56580.000000  56579.000000  9.921102e+08        NaN    43.950000   \n",
       "75%    58831.500000  58830.500000  9.961705e+08        NaN   109.915000   \n",
       "max    94201.000000  94200.000000  9.999994e+08        NaN  9970.730000   \n",
       "\n",
       "       remitter_account_no  withhold_tax_amount  trans_data_id  stan  \\\n",
       "count         1.171000e+03               1106.0    8963.000000   0.0   \n",
       "mean          4.656705e+07                  0.0   56366.849158   NaN   \n",
       "std           1.919821e+08                  0.0    2675.133905   NaN   \n",
       "min           1.900000e+02                  0.0   51410.000000   NaN   \n",
       "25%           2.729700e+04                  0.0   54093.500000   NaN   \n",
       "50%           4.880800e+04                  0.0   56362.000000   NaN   \n",
       "75%           6.689100e+04                  0.0   58611.500000   NaN   \n",
       "max           8.381493e+08                  0.0   93924.000000   NaN   \n",
       "\n",
       "       approval_code   hold_number  exchange_rate  error_msg  \n",
       "count    7731.000000  7.548000e+03    7731.000000        0.0  \n",
       "mean   542252.716854  9.158836e+08       0.990428        NaN  \n",
       "std    266582.112685  4.916390e+06       0.097373        NaN  \n",
       "min         0.000000  9.048009e+08       0.000000        NaN  \n",
       "25%    320580.000000  9.121022e+08       1.000000        NaN  \n",
       "50%    544584.000000  9.167816e+08       1.000000        NaN  \n",
       "75%    769673.500000  9.200462e+08       1.000000        NaN  \n",
       "max    999861.000000  9.230254e+08       1.000000        NaN  "
      ]
     },
     "execution_count": 6,
     "metadata": {},
     "output_type": "execute_result"
    }
   ],
   "source": [
    "df.describe()"
   ]
  },
  {
   "cell_type": "code",
   "execution_count": 7,
   "metadata": {
    "colab": {
     "base_uri": "https://localhost:8080/"
    },
    "id": "pCiYwe-nN8IP",
    "outputId": "287937b9-2129-4b60-9a22-4a82fcdb1425"
   },
   "outputs": [
    {
     "data": {
      "text/plain": [
       "id                       int64\n",
       "trans_type              object\n",
       "trans_ref                int64\n",
       "status                  object\n",
       "ppan                    object\n",
       "cts                     object\n",
       "bsb                     object\n",
       "account_no             float64\n",
       "indicator              float64\n",
       "trans_code              object\n",
       "currency                object\n",
       "amount                 float64\n",
       "description             object\n",
       "lodgement_ref           object\n",
       "remitter_bsb            object\n",
       "remitter_account_no    float64\n",
       "remitter_name           object\n",
       "withhold_tax_amount    float64\n",
       "trans_data_id            int64\n",
       "stan                   float64\n",
       "post_date               object\n",
       "approval_code          float64\n",
       "hold_number            float64\n",
       "exchange_rate          float64\n",
       "ext_trans_no            object\n",
       "error_msg              float64\n",
       "dtype: object"
      ]
     },
     "execution_count": 7,
     "metadata": {},
     "output_type": "execute_result"
    }
   ],
   "source": [
    "df.dtypes"
   ]
  },
  {
   "cell_type": "code",
   "execution_count": 8,
   "metadata": {
    "colab": {
     "base_uri": "https://localhost:8080/"
    },
    "id": "Fk-fGVXfPbvj",
    "outputId": "1d4cfc8f-76f0-41a4-8b23-9ca46fa0658d"
   },
   "outputs": [
    {
     "data": {
      "text/plain": [
       "Purchase              7472\n",
       "BatchTopupTrans       1106\n",
       "Cash                    76\n",
       "Payment                 74\n",
       "Withdrawal              65\n",
       "TopupCard               61\n",
       "Credit purchase         59\n",
       "Monthly fee (base)      49\n",
       "Reverse cash             1\n",
       "Name: trans_type, dtype: int64"
      ]
     },
     "execution_count": 8,
     "metadata": {},
     "output_type": "execute_result"
    }
   ],
   "source": [
    "df['trans_type'].value_counts()"
   ]
  },
  {
   "cell_type": "code",
   "execution_count": 9,
   "metadata": {
    "colab": {
     "base_uri": "https://localhost:8080/",
     "height": 335
    },
    "id": "ywfY3ecuPb7Y",
    "outputId": "da576431-9986-4fd2-d445-7d9fec0e2993"
   },
   "outputs": [
    {
     "data": {
      "text/plain": [
       "<AxesSubplot:>"
      ]
     },
     "execution_count": 9,
     "metadata": {},
     "output_type": "execute_result"
    },
    {
     "data": {
      "image/png": "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\n",
      "text/plain": [
       "<Figure size 432x288 with 1 Axes>"
      ]
     },
     "metadata": {
      "needs_background": "light"
     },
     "output_type": "display_data"
    }
   ],
   "source": [
    " df['trans_type'].value_counts().plot(kind='bar')"
   ]
  },
  {
   "cell_type": "code",
   "execution_count": 10,
   "metadata": {
    "colab": {
     "base_uri": "https://localhost:8080/"
    },
    "id": "zUsai643PcIP",
    "outputId": "12a49d1b-a9da-4799-db03-6e6e0e73f0e3"
   },
   "outputs": [
    {
     "data": {
      "text/plain": [
       "SUCCESS    8963\n",
       "Name: status, dtype: int64"
      ]
     },
     "execution_count": 10,
     "metadata": {},
     "output_type": "execute_result"
    }
   ],
   "source": [
    " df['status'].value_counts()"
   ]
  },
  {
   "cell_type": "code",
   "execution_count": 11,
   "metadata": {
    "colab": {
     "base_uri": "https://localhost:8080/",
     "height": 295
    },
    "id": "rKCEpAz9Q45E",
    "outputId": "a79cbff0-e3d7-47cd-afec-d70854a4e31f"
   },
   "outputs": [
    {
     "data": {
      "text/plain": [
       "<AxesSubplot:>"
      ]
     },
     "execution_count": 11,
     "metadata": {},
     "output_type": "execute_result"
    },
    {
     "data": {
      "image/png": "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\n",
      "text/plain": [
       "<Figure size 432x288 with 1 Axes>"
      ]
     },
     "metadata": {
      "needs_background": "light"
     },
     "output_type": "display_data"
    }
   ],
   "source": [
    " df['status'].value_counts().plot(kind='bar')"
   ]
  },
  {
   "cell_type": "code",
   "execution_count": 12,
   "metadata": {
    "colab": {
     "base_uri": "https://localhost:8080/"
    },
    "id": "wPSOxDMFQ5XP",
    "outputId": "6a1c121f-3766-4357-b9fc-cafbe060b3de"
   },
   "outputs": [
    {
     "data": {
      "text/plain": [
       "AUD    8844\n",
       "USD     104\n",
       "GBP      12\n",
       "EUR       3\n",
       "Name: currency, dtype: int64"
      ]
     },
     "execution_count": 12,
     "metadata": {},
     "output_type": "execute_result"
    }
   ],
   "source": [
    " df['currency'].value_counts()"
   ]
  },
  {
   "cell_type": "code",
   "execution_count": 13,
   "metadata": {
    "colab": {
     "base_uri": "https://localhost:8080/",
     "height": 274
    },
    "id": "PPJCk0wklIvJ",
    "outputId": "d456ec81-15cd-4363-d4e1-579f7d166f81"
   },
   "outputs": [
    {
     "data": {
      "text/plain": [
       "<AxesSubplot:>"
      ]
     },
     "execution_count": 13,
     "metadata": {},
     "output_type": "execute_result"
    },
    {
     "data": {
      "image/png": "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\n",
      "text/plain": [
       "<Figure size 432x288 with 1 Axes>"
      ]
     },
     "metadata": {
      "needs_background": "light"
     },
     "output_type": "display_data"
    }
   ],
   "source": [
    " df['currency'].value_counts().plot(kind='bar')"
   ]
  },
  {
   "cell_type": "code",
   "execution_count": 14,
   "metadata": {
    "id": "ynEeAmWmRVCr"
   },
   "outputs": [],
   "source": [
    " df.drop_duplicates(keep=False,inplace=True)"
   ]
  },
  {
   "cell_type": "code",
   "execution_count": 15,
   "metadata": {
    "colab": {
     "base_uri": "https://localhost:8080/"
    },
    "id": "nbpWWVKMRVU3",
    "outputId": "fe092d0b-53dc-4857-982d-8f1451984637"
   },
   "outputs": [
    {
     "data": {
      "text/plain": [
       "(8963, 26)"
      ]
     },
     "execution_count": 15,
     "metadata": {},
     "output_type": "execute_result"
    }
   ],
   "source": [
    "df.shape"
   ]
  },
  {
   "cell_type": "code",
   "execution_count": 16,
   "metadata": {
    "colab": {
     "base_uri": "https://localhost:8080/"
    },
    "id": "OWlh2Y1fN8IK",
    "outputId": "5da7a07a-20bc-4d68-b427-29630c7cf143"
   },
   "outputs": [
    {
     "data": {
      "text/plain": [
       "id                        0\n",
       "trans_type                0\n",
       "trans_ref                 0\n",
       "status                    0\n",
       "ppan                      0\n",
       "cts                       0\n",
       "bsb                    7842\n",
       "account_no             7731\n",
       "indicator              8963\n",
       "trans_code                0\n",
       "currency                  0\n",
       "amount                    0\n",
       "description             160\n",
       "lodgement_ref           143\n",
       "remitter_bsb           7792\n",
       "remitter_account_no    7792\n",
       "remitter_name          7792\n",
       "withhold_tax_amount    7857\n",
       "trans_data_id             0\n",
       "stan                   8963\n",
       "post_date              1167\n",
       "approval_code          1232\n",
       "hold_number            1415\n",
       "exchange_rate          1232\n",
       "ext_trans_no           7731\n",
       "error_msg              8963\n",
       "dtype: int64"
      ]
     },
     "execution_count": 16,
     "metadata": {},
     "output_type": "execute_result"
    }
   ],
   "source": [
    "## checking if any null values exist in the data\n",
    "df.isnull().sum()"
   ]
  },
  {
   "cell_type": "code",
   "execution_count": 17,
   "metadata": {
    "id": "KrQOSs0LT1JZ"
   },
   "outputs": [],
   "source": [
    "df= df[['trans_type', 'trans_ref', 'status', 'ppan', 'cts', 'trans_code', 'currency', 'amount',\n",
    "       'description', 'lodgement_ref', 'withhold_tax_amount', 'trans_data_id',\n",
    "       'post_date', 'approval_code', 'hold_number', 'exchange_rate'\n",
    " \n",
    "]]"
   ]
  },
  {
   "cell_type": "code",
   "execution_count": 18,
   "metadata": {
    "colab": {
     "base_uri": "https://localhost:8080/",
     "height": 328
    },
    "id": "RrzV-ZqCT1Zy",
    "outputId": "371feb93-91d9-48f7-da57-77360c0146d0"
   },
   "outputs": [
    {
     "data": {
      "text/html": [
       "<div>\n",
       "<style scoped>\n",
       "    .dataframe tbody tr th:only-of-type {\n",
       "        vertical-align: middle;\n",
       "    }\n",
       "\n",
       "    .dataframe tbody tr th {\n",
       "        vertical-align: top;\n",
       "    }\n",
       "\n",
       "    .dataframe thead th {\n",
       "        text-align: right;\n",
       "    }\n",
       "</style>\n",
       "<table border=\"1\" class=\"dataframe\">\n",
       "  <thead>\n",
       "    <tr style=\"text-align: right;\">\n",
       "      <th></th>\n",
       "      <th>trans_type</th>\n",
       "      <th>trans_ref</th>\n",
       "      <th>status</th>\n",
       "      <th>ppan</th>\n",
       "      <th>cts</th>\n",
       "      <th>trans_code</th>\n",
       "      <th>currency</th>\n",
       "      <th>amount</th>\n",
       "      <th>description</th>\n",
       "      <th>lodgement_ref</th>\n",
       "      <th>withhold_tax_amount</th>\n",
       "      <th>trans_data_id</th>\n",
       "      <th>post_date</th>\n",
       "      <th>approval_code</th>\n",
       "      <th>hold_number</th>\n",
       "      <th>exchange_rate</th>\n",
       "    </tr>\n",
       "  </thead>\n",
       "  <tbody>\n",
       "    <tr>\n",
       "      <th>0</th>\n",
       "      <td>Monthly fee (base)</td>\n",
       "      <td>94200</td>\n",
       "      <td>SUCCESS</td>\n",
       "      <td>482003TZEDFE4612</td>\n",
       "      <td>16/03/2021 0:00</td>\n",
       "      <td>32S</td>\n",
       "      <td>AUD</td>\n",
       "      <td>5.00</td>\n",
       "      <td>NaN</td>\n",
       "      <td>NaN</td>\n",
       "      <td>NaN</td>\n",
       "      <td>93924</td>\n",
       "      <td>4/06/2021</td>\n",
       "      <td>0.0</td>\n",
       "      <td>NaN</td>\n",
       "      <td>1.0</td>\n",
       "    </tr>\n",
       "    <tr>\n",
       "      <th>1</th>\n",
       "      <td>Monthly fee (base)</td>\n",
       "      <td>85016</td>\n",
       "      <td>SUCCESS</td>\n",
       "      <td>482003BBGAVJ4273</td>\n",
       "      <td>24/03/2021 0:00</td>\n",
       "      <td>32S</td>\n",
       "      <td>AUD</td>\n",
       "      <td>5.00</td>\n",
       "      <td>NaN</td>\n",
       "      <td>NaN</td>\n",
       "      <td>NaN</td>\n",
       "      <td>84759</td>\n",
       "      <td>20/05/2021</td>\n",
       "      <td>0.0</td>\n",
       "      <td>NaN</td>\n",
       "      <td>1.0</td>\n",
       "    </tr>\n",
       "    <tr>\n",
       "      <th>2</th>\n",
       "      <td>Purchase</td>\n",
       "      <td>63091</td>\n",
       "      <td>SUCCESS</td>\n",
       "      <td>482003EVIRMM9816</td>\n",
       "      <td>31/03/2021 0:00</td>\n",
       "      <td>205</td>\n",
       "      <td>AUD</td>\n",
       "      <td>45.00</td>\n",
       "      <td>VIRGIN AUSTR0795151210280\\BRISBANE     \\AU</td>\n",
       "      <td>7.40E+22</td>\n",
       "      <td>NaN</td>\n",
       "      <td>62867</td>\n",
       "      <td>8/04/2021</td>\n",
       "      <td>428379.0</td>\n",
       "      <td>922671898.0</td>\n",
       "      <td>1.0</td>\n",
       "    </tr>\n",
       "    <tr>\n",
       "      <th>3</th>\n",
       "      <td>Purchase</td>\n",
       "      <td>62414</td>\n",
       "      <td>SUCCESS</td>\n",
       "      <td>482003GBDCSP2795</td>\n",
       "      <td>29/03/2021 0:00</td>\n",
       "      <td>205</td>\n",
       "      <td>AUD</td>\n",
       "      <td>319.45</td>\n",
       "      <td>PAYPAL *PITNEYBOWES      \\4029357733   \\AU</td>\n",
       "      <td>7.46E+22</td>\n",
       "      <td>NaN</td>\n",
       "      <td>62190</td>\n",
       "      <td>7/04/2021</td>\n",
       "      <td>431134.0</td>\n",
       "      <td>922127300.0</td>\n",
       "      <td>1.0</td>\n",
       "    </tr>\n",
       "    <tr>\n",
       "      <th>4</th>\n",
       "      <td>Monthly fee (base)</td>\n",
       "      <td>62173</td>\n",
       "      <td>SUCCESS</td>\n",
       "      <td>482003EILBWY3559</td>\n",
       "      <td>23/03/2021 0:00</td>\n",
       "      <td>32S</td>\n",
       "      <td>AUD</td>\n",
       "      <td>5.00</td>\n",
       "      <td>NaN</td>\n",
       "      <td>NaN</td>\n",
       "      <td>NaN</td>\n",
       "      <td>61950</td>\n",
       "      <td>6/04/2021</td>\n",
       "      <td>0.0</td>\n",
       "      <td>NaN</td>\n",
       "      <td>1.0</td>\n",
       "    </tr>\n",
       "  </tbody>\n",
       "</table>\n",
       "</div>"
      ],
      "text/plain": [
       "           trans_type  trans_ref   status              ppan              cts  \\\n",
       "0  Monthly fee (base)      94200  SUCCESS  482003TZEDFE4612  16/03/2021 0:00   \n",
       "1  Monthly fee (base)      85016  SUCCESS  482003BBGAVJ4273  24/03/2021 0:00   \n",
       "2            Purchase      63091  SUCCESS  482003EVIRMM9816  31/03/2021 0:00   \n",
       "3            Purchase      62414  SUCCESS  482003GBDCSP2795  29/03/2021 0:00   \n",
       "4  Monthly fee (base)      62173  SUCCESS  482003EILBWY3559  23/03/2021 0:00   \n",
       "\n",
       "  trans_code currency  amount                                 description  \\\n",
       "0        32S      AUD    5.00                                         NaN   \n",
       "1        32S      AUD    5.00                                         NaN   \n",
       "2        205      AUD   45.00  VIRGIN AUSTR0795151210280\\BRISBANE     \\AU   \n",
       "3        205      AUD  319.45  PAYPAL *PITNEYBOWES      \\4029357733   \\AU   \n",
       "4        32S      AUD    5.00                                         NaN   \n",
       "\n",
       "  lodgement_ref  withhold_tax_amount  trans_data_id   post_date  \\\n",
       "0           NaN                  NaN          93924   4/06/2021   \n",
       "1           NaN                  NaN          84759  20/05/2021   \n",
       "2      7.40E+22                  NaN          62867   8/04/2021   \n",
       "3      7.46E+22                  NaN          62190   7/04/2021   \n",
       "4           NaN                  NaN          61950   6/04/2021   \n",
       "\n",
       "   approval_code  hold_number  exchange_rate  \n",
       "0            0.0          NaN            1.0  \n",
       "1            0.0          NaN            1.0  \n",
       "2       428379.0  922671898.0            1.0  \n",
       "3       431134.0  922127300.0            1.0  \n",
       "4            0.0          NaN            1.0  "
      ]
     },
     "execution_count": 18,
     "metadata": {},
     "output_type": "execute_result"
    }
   ],
   "source": [
    "df.head()"
   ]
  },
  {
   "cell_type": "code",
   "execution_count": 19,
   "metadata": {
    "id": "qb-cxevhN8IO"
   },
   "outputs": [],
   "source": [
    "df['trans_type']=df['trans_type'].map({'Monthly fee (base)':9,'Purchase':1,'Cash':2,'Credit purchase':3,'BatchTopupTrans':4,'Payment':5,'TopupCard':6,'Withdrwal':7,'Reverse cash':8}) # converting text lables to numbers"
   ]
  },
  {
   "cell_type": "code",
   "execution_count": 20,
   "metadata": {
    "id": "4klGSecLtobG"
   },
   "outputs": [],
   "source": [
    "for col_name in df.columns:\n",
    "    if(df[col_name].dtype == 'object'):\n",
    "        df[col_name]= df[col_name].astype('category')\n",
    "        df[col_name] = df[col_name].cat.codes"
   ]
  },
  {
   "cell_type": "code",
   "execution_count": 21,
   "metadata": {
    "colab": {
     "base_uri": "https://localhost:8080/",
     "height": 225
    },
    "id": "tGoUrKhis83N",
    "outputId": "1cc36300-8f34-4623-a6a3-39202a09040c"
   },
   "outputs": [
    {
     "data": {
      "text/html": [
       "<div>\n",
       "<style scoped>\n",
       "    .dataframe tbody tr th:only-of-type {\n",
       "        vertical-align: middle;\n",
       "    }\n",
       "\n",
       "    .dataframe tbody tr th {\n",
       "        vertical-align: top;\n",
       "    }\n",
       "\n",
       "    .dataframe thead th {\n",
       "        text-align: right;\n",
       "    }\n",
       "</style>\n",
       "<table border=\"1\" class=\"dataframe\">\n",
       "  <thead>\n",
       "    <tr style=\"text-align: right;\">\n",
       "      <th></th>\n",
       "      <th>trans_type</th>\n",
       "      <th>trans_ref</th>\n",
       "      <th>status</th>\n",
       "      <th>ppan</th>\n",
       "      <th>cts</th>\n",
       "      <th>trans_code</th>\n",
       "      <th>currency</th>\n",
       "      <th>amount</th>\n",
       "      <th>description</th>\n",
       "      <th>lodgement_ref</th>\n",
       "      <th>withhold_tax_amount</th>\n",
       "      <th>trans_data_id</th>\n",
       "      <th>post_date</th>\n",
       "      <th>approval_code</th>\n",
       "      <th>hold_number</th>\n",
       "      <th>exchange_rate</th>\n",
       "    </tr>\n",
       "  </thead>\n",
       "  <tbody>\n",
       "    <tr>\n",
       "      <th>0</th>\n",
       "      <td>9.0</td>\n",
       "      <td>94200</td>\n",
       "      <td>0</td>\n",
       "      <td>806</td>\n",
       "      <td>89</td>\n",
       "      <td>6</td>\n",
       "      <td>0</td>\n",
       "      <td>5.00</td>\n",
       "      <td>-1</td>\n",
       "      <td>-1</td>\n",
       "      <td>NaN</td>\n",
       "      <td>93924</td>\n",
       "      <td>28</td>\n",
       "      <td>0.0</td>\n",
       "      <td>NaN</td>\n",
       "      <td>1.0</td>\n",
       "    </tr>\n",
       "    <tr>\n",
       "      <th>1</th>\n",
       "      <td>9.0</td>\n",
       "      <td>85016</td>\n",
       "      <td>0</td>\n",
       "      <td>30</td>\n",
       "      <td>426</td>\n",
       "      <td>6</td>\n",
       "      <td>0</td>\n",
       "      <td>5.00</td>\n",
       "      <td>-1</td>\n",
       "      <td>-1</td>\n",
       "      <td>NaN</td>\n",
       "      <td>84759</td>\n",
       "      <td>14</td>\n",
       "      <td>0.0</td>\n",
       "      <td>NaN</td>\n",
       "      <td>1.0</td>\n",
       "    </tr>\n",
       "    <tr>\n",
       "      <th>2</th>\n",
       "      <td>1.0</td>\n",
       "      <td>63091</td>\n",
       "      <td>0</td>\n",
       "      <td>179</td>\n",
       "      <td>678</td>\n",
       "      <td>2</td>\n",
       "      <td>0</td>\n",
       "      <td>45.00</td>\n",
       "      <td>3979</td>\n",
       "      <td>214</td>\n",
       "      <td>NaN</td>\n",
       "      <td>62867</td>\n",
       "      <td>36</td>\n",
       "      <td>428379.0</td>\n",
       "      <td>922671898.0</td>\n",
       "      <td>1.0</td>\n",
       "    </tr>\n",
       "    <tr>\n",
       "      <th>3</th>\n",
       "      <td>1.0</td>\n",
       "      <td>62414</td>\n",
       "      <td>0</td>\n",
       "      <td>230</td>\n",
       "      <td>659</td>\n",
       "      <td>2</td>\n",
       "      <td>0</td>\n",
       "      <td>319.45</td>\n",
       "      <td>2792</td>\n",
       "      <td>220</td>\n",
       "      <td>NaN</td>\n",
       "      <td>62190</td>\n",
       "      <td>34</td>\n",
       "      <td>431134.0</td>\n",
       "      <td>922127300.0</td>\n",
       "      <td>1.0</td>\n",
       "    </tr>\n",
       "    <tr>\n",
       "      <th>4</th>\n",
       "      <td>9.0</td>\n",
       "      <td>62173</td>\n",
       "      <td>0</td>\n",
       "      <td>160</td>\n",
       "      <td>351</td>\n",
       "      <td>6</td>\n",
       "      <td>0</td>\n",
       "      <td>5.00</td>\n",
       "      <td>-1</td>\n",
       "      <td>-1</td>\n",
       "      <td>NaN</td>\n",
       "      <td>61950</td>\n",
       "      <td>32</td>\n",
       "      <td>0.0</td>\n",
       "      <td>NaN</td>\n",
       "      <td>1.0</td>\n",
       "    </tr>\n",
       "  </tbody>\n",
       "</table>\n",
       "</div>"
      ],
      "text/plain": [
       "   trans_type  trans_ref  status  ppan  cts  trans_code  currency  amount  \\\n",
       "0         9.0      94200       0   806   89           6         0    5.00   \n",
       "1         9.0      85016       0    30  426           6         0    5.00   \n",
       "2         1.0      63091       0   179  678           2         0   45.00   \n",
       "3         1.0      62414       0   230  659           2         0  319.45   \n",
       "4         9.0      62173       0   160  351           6         0    5.00   \n",
       "\n",
       "   description  lodgement_ref  withhold_tax_amount  trans_data_id  post_date  \\\n",
       "0           -1             -1                  NaN          93924         28   \n",
       "1           -1             -1                  NaN          84759         14   \n",
       "2         3979            214                  NaN          62867         36   \n",
       "3         2792            220                  NaN          62190         34   \n",
       "4           -1             -1                  NaN          61950         32   \n",
       "\n",
       "   approval_code  hold_number  exchange_rate  \n",
       "0            0.0          NaN            1.0  \n",
       "1            0.0          NaN            1.0  \n",
       "2       428379.0  922671898.0            1.0  \n",
       "3       431134.0  922127300.0            1.0  \n",
       "4            0.0          NaN            1.0  "
      ]
     },
     "execution_count": 21,
     "metadata": {},
     "output_type": "execute_result"
    }
   ],
   "source": [
    "df.head()"
   ]
  },
  {
   "cell_type": "code",
   "execution_count": 22,
   "metadata": {
    "id": "fYUMbKUZN8IR"
   },
   "outputs": [],
   "source": [
    "df=df.bfill(axis ='columns')"
   ]
  },
  {
   "cell_type": "code",
   "execution_count": 23,
   "metadata": {
    "colab": {
     "base_uri": "https://localhost:8080/"
    },
    "id": "Y6CZWSR5N8IT",
    "outputId": "3a3187c5-43f7-4ec4-83bf-515213d6ff96"
   },
   "outputs": [
    {
     "data": {
      "text/plain": [
       "trans_type                0\n",
       "trans_ref                 0\n",
       "status                    0\n",
       "ppan                      0\n",
       "cts                       0\n",
       "trans_code                0\n",
       "currency                  0\n",
       "amount                    0\n",
       "description               0\n",
       "lodgement_ref             0\n",
       "withhold_tax_amount       0\n",
       "trans_data_id             0\n",
       "post_date                 0\n",
       "approval_code          1232\n",
       "hold_number            1232\n",
       "exchange_rate          1232\n",
       "dtype: int64"
      ]
     },
     "execution_count": 23,
     "metadata": {},
     "output_type": "execute_result"
    }
   ],
   "source": [
    "df.isnull().sum()"
   ]
  },
  {
   "cell_type": "code",
   "execution_count": 24,
   "metadata": {
    "colab": {
     "base_uri": "https://localhost:8080/",
     "height": 225
    },
    "id": "ZW3EGi8TN8IZ",
    "outputId": "57813a3b-79a3-4105-90a1-3aeb23dfdd21"
   },
   "outputs": [
    {
     "data": {
      "text/html": [
       "<div>\n",
       "<style scoped>\n",
       "    .dataframe tbody tr th:only-of-type {\n",
       "        vertical-align: middle;\n",
       "    }\n",
       "\n",
       "    .dataframe tbody tr th {\n",
       "        vertical-align: top;\n",
       "    }\n",
       "\n",
       "    .dataframe thead th {\n",
       "        text-align: right;\n",
       "    }\n",
       "</style>\n",
       "<table border=\"1\" class=\"dataframe\">\n",
       "  <thead>\n",
       "    <tr style=\"text-align: right;\">\n",
       "      <th></th>\n",
       "      <th>trans_type</th>\n",
       "      <th>trans_ref</th>\n",
       "      <th>status</th>\n",
       "      <th>ppan</th>\n",
       "      <th>cts</th>\n",
       "      <th>trans_code</th>\n",
       "      <th>currency</th>\n",
       "      <th>amount</th>\n",
       "      <th>description</th>\n",
       "      <th>lodgement_ref</th>\n",
       "      <th>withhold_tax_amount</th>\n",
       "      <th>trans_data_id</th>\n",
       "      <th>post_date</th>\n",
       "      <th>approval_code</th>\n",
       "      <th>hold_number</th>\n",
       "      <th>exchange_rate</th>\n",
       "    </tr>\n",
       "  </thead>\n",
       "  <tbody>\n",
       "    <tr>\n",
       "      <th>0</th>\n",
       "      <td>9.0</td>\n",
       "      <td>94200.0</td>\n",
       "      <td>0.0</td>\n",
       "      <td>806.0</td>\n",
       "      <td>89.0</td>\n",
       "      <td>6.0</td>\n",
       "      <td>0.0</td>\n",
       "      <td>5.00</td>\n",
       "      <td>-1.0</td>\n",
       "      <td>-1.0</td>\n",
       "      <td>93924.0</td>\n",
       "      <td>93924.0</td>\n",
       "      <td>28.0</td>\n",
       "      <td>0.0</td>\n",
       "      <td>1.0</td>\n",
       "      <td>1.0</td>\n",
       "    </tr>\n",
       "    <tr>\n",
       "      <th>1</th>\n",
       "      <td>9.0</td>\n",
       "      <td>85016.0</td>\n",
       "      <td>0.0</td>\n",
       "      <td>30.0</td>\n",
       "      <td>426.0</td>\n",
       "      <td>6.0</td>\n",
       "      <td>0.0</td>\n",
       "      <td>5.00</td>\n",
       "      <td>-1.0</td>\n",
       "      <td>-1.0</td>\n",
       "      <td>84759.0</td>\n",
       "      <td>84759.0</td>\n",
       "      <td>14.0</td>\n",
       "      <td>0.0</td>\n",
       "      <td>1.0</td>\n",
       "      <td>1.0</td>\n",
       "    </tr>\n",
       "    <tr>\n",
       "      <th>2</th>\n",
       "      <td>1.0</td>\n",
       "      <td>63091.0</td>\n",
       "      <td>0.0</td>\n",
       "      <td>179.0</td>\n",
       "      <td>678.0</td>\n",
       "      <td>2.0</td>\n",
       "      <td>0.0</td>\n",
       "      <td>45.00</td>\n",
       "      <td>3979.0</td>\n",
       "      <td>214.0</td>\n",
       "      <td>62867.0</td>\n",
       "      <td>62867.0</td>\n",
       "      <td>36.0</td>\n",
       "      <td>428379.0</td>\n",
       "      <td>922671898.0</td>\n",
       "      <td>1.0</td>\n",
       "    </tr>\n",
       "    <tr>\n",
       "      <th>3</th>\n",
       "      <td>1.0</td>\n",
       "      <td>62414.0</td>\n",
       "      <td>0.0</td>\n",
       "      <td>230.0</td>\n",
       "      <td>659.0</td>\n",
       "      <td>2.0</td>\n",
       "      <td>0.0</td>\n",
       "      <td>319.45</td>\n",
       "      <td>2792.0</td>\n",
       "      <td>220.0</td>\n",
       "      <td>62190.0</td>\n",
       "      <td>62190.0</td>\n",
       "      <td>34.0</td>\n",
       "      <td>431134.0</td>\n",
       "      <td>922127300.0</td>\n",
       "      <td>1.0</td>\n",
       "    </tr>\n",
       "    <tr>\n",
       "      <th>4</th>\n",
       "      <td>9.0</td>\n",
       "      <td>62173.0</td>\n",
       "      <td>0.0</td>\n",
       "      <td>160.0</td>\n",
       "      <td>351.0</td>\n",
       "      <td>6.0</td>\n",
       "      <td>0.0</td>\n",
       "      <td>5.00</td>\n",
       "      <td>-1.0</td>\n",
       "      <td>-1.0</td>\n",
       "      <td>61950.0</td>\n",
       "      <td>61950.0</td>\n",
       "      <td>32.0</td>\n",
       "      <td>0.0</td>\n",
       "      <td>1.0</td>\n",
       "      <td>1.0</td>\n",
       "    </tr>\n",
       "  </tbody>\n",
       "</table>\n",
       "</div>"
      ],
      "text/plain": [
       "   trans_type  trans_ref  status   ppan    cts  trans_code  currency  amount  \\\n",
       "0         9.0    94200.0     0.0  806.0   89.0         6.0       0.0    5.00   \n",
       "1         9.0    85016.0     0.0   30.0  426.0         6.0       0.0    5.00   \n",
       "2         1.0    63091.0     0.0  179.0  678.0         2.0       0.0   45.00   \n",
       "3         1.0    62414.0     0.0  230.0  659.0         2.0       0.0  319.45   \n",
       "4         9.0    62173.0     0.0  160.0  351.0         6.0       0.0    5.00   \n",
       "\n",
       "   description  lodgement_ref  withhold_tax_amount  trans_data_id  post_date  \\\n",
       "0         -1.0           -1.0              93924.0        93924.0       28.0   \n",
       "1         -1.0           -1.0              84759.0        84759.0       14.0   \n",
       "2       3979.0          214.0              62867.0        62867.0       36.0   \n",
       "3       2792.0          220.0              62190.0        62190.0       34.0   \n",
       "4         -1.0           -1.0              61950.0        61950.0       32.0   \n",
       "\n",
       "   approval_code  hold_number  exchange_rate  \n",
       "0            0.0          1.0            1.0  \n",
       "1            0.0          1.0            1.0  \n",
       "2       428379.0  922671898.0            1.0  \n",
       "3       431134.0  922127300.0            1.0  \n",
       "4            0.0          1.0            1.0  "
      ]
     },
     "execution_count": 24,
     "metadata": {},
     "output_type": "execute_result"
    }
   ],
   "source": [
    "df =  df.fillna(0)\n",
    "df.head()"
   ]
  },
  {
   "cell_type": "code",
   "execution_count": 25,
   "metadata": {
    "colab": {
     "base_uri": "https://localhost:8080/"
    },
    "id": "IXBDYl8D1T8o",
    "outputId": "eeb7122f-cf1f-429a-849e-755c2c5bc57e"
   },
   "outputs": [
    {
     "data": {
      "text/plain": [
       "trans_type             0\n",
       "trans_ref              0\n",
       "status                 0\n",
       "ppan                   0\n",
       "cts                    0\n",
       "trans_code             0\n",
       "currency               0\n",
       "amount                 0\n",
       "description            0\n",
       "lodgement_ref          0\n",
       "withhold_tax_amount    0\n",
       "trans_data_id          0\n",
       "post_date              0\n",
       "approval_code          0\n",
       "hold_number            0\n",
       "exchange_rate          0\n",
       "dtype: int64"
      ]
     },
     "execution_count": 25,
     "metadata": {},
     "output_type": "execute_result"
    }
   ],
   "source": [
    " df.isnull().sum()"
   ]
  },
  {
   "cell_type": "code",
   "execution_count": 26,
   "metadata": {
    "colab": {
     "base_uri": "https://localhost:8080/",
     "height": 225
    },
    "id": "82U1eQzVuMo7",
    "outputId": "0da68092-9d09-447c-8aa4-147f5f91a63a"
   },
   "outputs": [
    {
     "data": {
      "text/html": [
       "<div>\n",
       "<style scoped>\n",
       "    .dataframe tbody tr th:only-of-type {\n",
       "        vertical-align: middle;\n",
       "    }\n",
       "\n",
       "    .dataframe tbody tr th {\n",
       "        vertical-align: top;\n",
       "    }\n",
       "\n",
       "    .dataframe thead th {\n",
       "        text-align: right;\n",
       "    }\n",
       "</style>\n",
       "<table border=\"1\" class=\"dataframe\">\n",
       "  <thead>\n",
       "    <tr style=\"text-align: right;\">\n",
       "      <th></th>\n",
       "      <th>trans_type</th>\n",
       "      <th>trans_ref</th>\n",
       "      <th>status</th>\n",
       "      <th>ppan</th>\n",
       "      <th>cts</th>\n",
       "      <th>trans_code</th>\n",
       "      <th>currency</th>\n",
       "      <th>amount</th>\n",
       "      <th>description</th>\n",
       "      <th>lodgement_ref</th>\n",
       "      <th>withhold_tax_amount</th>\n",
       "      <th>trans_data_id</th>\n",
       "      <th>post_date</th>\n",
       "      <th>approval_code</th>\n",
       "      <th>hold_number</th>\n",
       "      <th>exchange_rate</th>\n",
       "    </tr>\n",
       "  </thead>\n",
       "  <tbody>\n",
       "    <tr>\n",
       "      <th>0</th>\n",
       "      <td>9.0</td>\n",
       "      <td>94200.0</td>\n",
       "      <td>0.0</td>\n",
       "      <td>806.0</td>\n",
       "      <td>89.0</td>\n",
       "      <td>6.0</td>\n",
       "      <td>0.0</td>\n",
       "      <td>5.00</td>\n",
       "      <td>-1.0</td>\n",
       "      <td>-1.0</td>\n",
       "      <td>93924.0</td>\n",
       "      <td>93924.0</td>\n",
       "      <td>28.0</td>\n",
       "      <td>0.0</td>\n",
       "      <td>1.0</td>\n",
       "      <td>1.0</td>\n",
       "    </tr>\n",
       "    <tr>\n",
       "      <th>1</th>\n",
       "      <td>9.0</td>\n",
       "      <td>85016.0</td>\n",
       "      <td>0.0</td>\n",
       "      <td>30.0</td>\n",
       "      <td>426.0</td>\n",
       "      <td>6.0</td>\n",
       "      <td>0.0</td>\n",
       "      <td>5.00</td>\n",
       "      <td>-1.0</td>\n",
       "      <td>-1.0</td>\n",
       "      <td>84759.0</td>\n",
       "      <td>84759.0</td>\n",
       "      <td>14.0</td>\n",
       "      <td>0.0</td>\n",
       "      <td>1.0</td>\n",
       "      <td>1.0</td>\n",
       "    </tr>\n",
       "    <tr>\n",
       "      <th>2</th>\n",
       "      <td>1.0</td>\n",
       "      <td>63091.0</td>\n",
       "      <td>0.0</td>\n",
       "      <td>179.0</td>\n",
       "      <td>678.0</td>\n",
       "      <td>2.0</td>\n",
       "      <td>0.0</td>\n",
       "      <td>45.00</td>\n",
       "      <td>3979.0</td>\n",
       "      <td>214.0</td>\n",
       "      <td>62867.0</td>\n",
       "      <td>62867.0</td>\n",
       "      <td>36.0</td>\n",
       "      <td>428379.0</td>\n",
       "      <td>922671898.0</td>\n",
       "      <td>1.0</td>\n",
       "    </tr>\n",
       "    <tr>\n",
       "      <th>3</th>\n",
       "      <td>1.0</td>\n",
       "      <td>62414.0</td>\n",
       "      <td>0.0</td>\n",
       "      <td>230.0</td>\n",
       "      <td>659.0</td>\n",
       "      <td>2.0</td>\n",
       "      <td>0.0</td>\n",
       "      <td>319.45</td>\n",
       "      <td>2792.0</td>\n",
       "      <td>220.0</td>\n",
       "      <td>62190.0</td>\n",
       "      <td>62190.0</td>\n",
       "      <td>34.0</td>\n",
       "      <td>431134.0</td>\n",
       "      <td>922127300.0</td>\n",
       "      <td>1.0</td>\n",
       "    </tr>\n",
       "    <tr>\n",
       "      <th>4</th>\n",
       "      <td>9.0</td>\n",
       "      <td>62173.0</td>\n",
       "      <td>0.0</td>\n",
       "      <td>160.0</td>\n",
       "      <td>351.0</td>\n",
       "      <td>6.0</td>\n",
       "      <td>0.0</td>\n",
       "      <td>5.00</td>\n",
       "      <td>-1.0</td>\n",
       "      <td>-1.0</td>\n",
       "      <td>61950.0</td>\n",
       "      <td>61950.0</td>\n",
       "      <td>32.0</td>\n",
       "      <td>0.0</td>\n",
       "      <td>1.0</td>\n",
       "      <td>1.0</td>\n",
       "    </tr>\n",
       "  </tbody>\n",
       "</table>\n",
       "</div>"
      ],
      "text/plain": [
       "   trans_type  trans_ref  status   ppan    cts  trans_code  currency  amount  \\\n",
       "0         9.0    94200.0     0.0  806.0   89.0         6.0       0.0    5.00   \n",
       "1         9.0    85016.0     0.0   30.0  426.0         6.0       0.0    5.00   \n",
       "2         1.0    63091.0     0.0  179.0  678.0         2.0       0.0   45.00   \n",
       "3         1.0    62414.0     0.0  230.0  659.0         2.0       0.0  319.45   \n",
       "4         9.0    62173.0     0.0  160.0  351.0         6.0       0.0    5.00   \n",
       "\n",
       "   description  lodgement_ref  withhold_tax_amount  trans_data_id  post_date  \\\n",
       "0         -1.0           -1.0              93924.0        93924.0       28.0   \n",
       "1         -1.0           -1.0              84759.0        84759.0       14.0   \n",
       "2       3979.0          214.0              62867.0        62867.0       36.0   \n",
       "3       2792.0          220.0              62190.0        62190.0       34.0   \n",
       "4         -1.0           -1.0              61950.0        61950.0       32.0   \n",
       "\n",
       "   approval_code  hold_number  exchange_rate  \n",
       "0            0.0          1.0            1.0  \n",
       "1            0.0          1.0            1.0  \n",
       "2       428379.0  922671898.0            1.0  \n",
       "3       431134.0  922127300.0            1.0  \n",
       "4            0.0          1.0            1.0  "
      ]
     },
     "execution_count": 26,
     "metadata": {},
     "output_type": "execute_result"
    }
   ],
   "source": [
    "df.head()"
   ]
  },
  {
   "cell_type": "code",
   "execution_count": 27,
   "metadata": {
    "colab": {
     "base_uri": "https://localhost:8080/",
     "height": 296
    },
    "id": "x_gaC8Aw019Z",
    "outputId": "6baae62f-4708-45fd-8312-517b072cb6fe"
   },
   "outputs": [
    {
     "data": {
      "text/plain": [
       "<AxesSubplot:>"
      ]
     },
     "execution_count": 27,
     "metadata": {},
     "output_type": "execute_result"
    },
    {
     "data": {
      "image/png": "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\n",
      "text/plain": [
       "<Figure size 1080x720 with 2 Axes>"
      ]
     },
     "metadata": {
      "needs_background": "light"
     },
     "output_type": "display_data"
    }
   ],
   "source": [
    "import seaborn as sns\n",
    "plt.figure(figsize=(15, 10))\n",
    "sns.heatmap(df.corr(), annot=True)"
   ]
  },
  {
   "cell_type": "markdown",
   "metadata": {
    "id": "ux1C-G3quSP5"
   },
   "source": [
    "Detection of outliers in the dataset"
   ]
  },
  {
   "cell_type": "code",
   "execution_count": 28,
   "metadata": {
    "colab": {
     "base_uri": "https://localhost:8080/",
     "height": 293
    },
    "id": "JD5MtsZDuZMs",
    "outputId": "83a899b5-4195-4315-9e2d-ecc1a83411e7"
   },
   "outputs": [
    {
     "data": {
      "text/plain": [
       "<AxesSubplot:xlabel='amount'>"
      ]
     },
     "execution_count": 28,
     "metadata": {},
     "output_type": "execute_result"
    },
    {
     "data": {
      "image/png": "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\n",
      "text/plain": [
       "<Figure size 432x288 with 1 Axes>"
      ]
     },
     "metadata": {
      "needs_background": "light"
     },
     "output_type": "display_data"
    }
   ],
   "source": [
    "import seaborn as sns\n",
    "sns.boxplot(x=df['amount'])"
   ]
  },
  {
   "cell_type": "code",
   "execution_count": 29,
   "metadata": {
    "colab": {
     "base_uri": "https://localhost:8080/"
    },
    "id": "_qaS0boCvqNE",
    "outputId": "4f476fa8-45de-4ed8-9621-1032f5041c9b"
   },
   "outputs": [
    {
     "name": "stdout",
     "output_type": "stream",
     "text": [
      "trans_type                    0.00\n",
      "trans_ref                  4534.00\n",
      "status                        0.00\n",
      "ppan                        537.50\n",
      "cts                         557.00\n",
      "trans_code                    0.00\n",
      "currency                      0.00\n",
      "amount                       96.59\n",
      "description                2418.50\n",
      "lodgement_ref                 5.00\n",
      "withhold_tax_amount        5169.00\n",
      "trans_data_id              4518.00\n",
      "post_date                    20.00\n",
      "approval_code            524939.50\n",
      "hold_number            11219282.00\n",
      "exchange_rate                 0.00\n",
      "dtype: float64\n"
     ]
    }
   ],
   "source": [
    "Q1 = df.quantile(0.25)\n",
    "Q3 = df.quantile(0.75)\n",
    "IQR = Q3 - Q1\n",
    "print(IQR)"
   ]
  },
  {
   "cell_type": "code",
   "execution_count": 30,
   "metadata": {
    "id": "NL8mbZWyzcFk"
   },
   "outputs": [],
   "source": [
    "df= df.drop(['post_date','approval_code','hold_number'], axis=1)"
   ]
  },
  {
   "cell_type": "code",
   "execution_count": 31,
   "metadata": {
    "colab": {
     "base_uri": "https://localhost:8080/"
    },
    "id": "Ldlw2RihvqWT",
    "outputId": "58cbf3d3-3b4d-4c74-b30e-079a08312428"
   },
   "outputs": [
    {
     "data": {
      "text/plain": [
       "trans_type             float64\n",
       "trans_ref              float64\n",
       "status                 float64\n",
       "ppan                   float64\n",
       "cts                    float64\n",
       "trans_code             float64\n",
       "currency               float64\n",
       "amount                 float64\n",
       "description            float64\n",
       "lodgement_ref          float64\n",
       "withhold_tax_amount    float64\n",
       "trans_data_id          float64\n",
       "exchange_rate          float64\n",
       "dtype: object"
      ]
     },
     "execution_count": 31,
     "metadata": {},
     "output_type": "execute_result"
    }
   ],
   "source": [
    "df.dtypes"
   ]
  },
  {
   "cell_type": "code",
   "execution_count": 32,
   "metadata": {
    "colab": {
     "base_uri": "https://localhost:8080/",
     "height": 225
    },
    "id": "sj4NhpIwzhg9",
    "outputId": "0152c1e5-8ff9-46a6-ad94-12b9e94a81e2"
   },
   "outputs": [
    {
     "data": {
      "text/html": [
       "<div>\n",
       "<style scoped>\n",
       "    .dataframe tbody tr th:only-of-type {\n",
       "        vertical-align: middle;\n",
       "    }\n",
       "\n",
       "    .dataframe tbody tr th {\n",
       "        vertical-align: top;\n",
       "    }\n",
       "\n",
       "    .dataframe thead th {\n",
       "        text-align: right;\n",
       "    }\n",
       "</style>\n",
       "<table border=\"1\" class=\"dataframe\">\n",
       "  <thead>\n",
       "    <tr style=\"text-align: right;\">\n",
       "      <th></th>\n",
       "      <th>trans_type</th>\n",
       "      <th>trans_ref</th>\n",
       "      <th>status</th>\n",
       "      <th>ppan</th>\n",
       "      <th>cts</th>\n",
       "      <th>trans_code</th>\n",
       "      <th>currency</th>\n",
       "      <th>amount</th>\n",
       "      <th>description</th>\n",
       "      <th>lodgement_ref</th>\n",
       "      <th>withhold_tax_amount</th>\n",
       "      <th>trans_data_id</th>\n",
       "      <th>exchange_rate</th>\n",
       "    </tr>\n",
       "  </thead>\n",
       "  <tbody>\n",
       "    <tr>\n",
       "      <th>0</th>\n",
       "      <td>9.0</td>\n",
       "      <td>94200.0</td>\n",
       "      <td>0.0</td>\n",
       "      <td>806.0</td>\n",
       "      <td>89.0</td>\n",
       "      <td>6.0</td>\n",
       "      <td>0.0</td>\n",
       "      <td>5.00</td>\n",
       "      <td>-1.0</td>\n",
       "      <td>-1.0</td>\n",
       "      <td>93924.0</td>\n",
       "      <td>93924.0</td>\n",
       "      <td>1.0</td>\n",
       "    </tr>\n",
       "    <tr>\n",
       "      <th>1</th>\n",
       "      <td>9.0</td>\n",
       "      <td>85016.0</td>\n",
       "      <td>0.0</td>\n",
       "      <td>30.0</td>\n",
       "      <td>426.0</td>\n",
       "      <td>6.0</td>\n",
       "      <td>0.0</td>\n",
       "      <td>5.00</td>\n",
       "      <td>-1.0</td>\n",
       "      <td>-1.0</td>\n",
       "      <td>84759.0</td>\n",
       "      <td>84759.0</td>\n",
       "      <td>1.0</td>\n",
       "    </tr>\n",
       "    <tr>\n",
       "      <th>2</th>\n",
       "      <td>1.0</td>\n",
       "      <td>63091.0</td>\n",
       "      <td>0.0</td>\n",
       "      <td>179.0</td>\n",
       "      <td>678.0</td>\n",
       "      <td>2.0</td>\n",
       "      <td>0.0</td>\n",
       "      <td>45.00</td>\n",
       "      <td>3979.0</td>\n",
       "      <td>214.0</td>\n",
       "      <td>62867.0</td>\n",
       "      <td>62867.0</td>\n",
       "      <td>1.0</td>\n",
       "    </tr>\n",
       "    <tr>\n",
       "      <th>3</th>\n",
       "      <td>1.0</td>\n",
       "      <td>62414.0</td>\n",
       "      <td>0.0</td>\n",
       "      <td>230.0</td>\n",
       "      <td>659.0</td>\n",
       "      <td>2.0</td>\n",
       "      <td>0.0</td>\n",
       "      <td>319.45</td>\n",
       "      <td>2792.0</td>\n",
       "      <td>220.0</td>\n",
       "      <td>62190.0</td>\n",
       "      <td>62190.0</td>\n",
       "      <td>1.0</td>\n",
       "    </tr>\n",
       "    <tr>\n",
       "      <th>4</th>\n",
       "      <td>9.0</td>\n",
       "      <td>62173.0</td>\n",
       "      <td>0.0</td>\n",
       "      <td>160.0</td>\n",
       "      <td>351.0</td>\n",
       "      <td>6.0</td>\n",
       "      <td>0.0</td>\n",
       "      <td>5.00</td>\n",
       "      <td>-1.0</td>\n",
       "      <td>-1.0</td>\n",
       "      <td>61950.0</td>\n",
       "      <td>61950.0</td>\n",
       "      <td>1.0</td>\n",
       "    </tr>\n",
       "  </tbody>\n",
       "</table>\n",
       "</div>"
      ],
      "text/plain": [
       "   trans_type  trans_ref  status   ppan    cts  trans_code  currency  amount  \\\n",
       "0         9.0    94200.0     0.0  806.0   89.0         6.0       0.0    5.00   \n",
       "1         9.0    85016.0     0.0   30.0  426.0         6.0       0.0    5.00   \n",
       "2         1.0    63091.0     0.0  179.0  678.0         2.0       0.0   45.00   \n",
       "3         1.0    62414.0     0.0  230.0  659.0         2.0       0.0  319.45   \n",
       "4         9.0    62173.0     0.0  160.0  351.0         6.0       0.0    5.00   \n",
       "\n",
       "   description  lodgement_ref  withhold_tax_amount  trans_data_id  \\\n",
       "0         -1.0           -1.0              93924.0        93924.0   \n",
       "1         -1.0           -1.0              84759.0        84759.0   \n",
       "2       3979.0          214.0              62867.0        62867.0   \n",
       "3       2792.0          220.0              62190.0        62190.0   \n",
       "4         -1.0           -1.0              61950.0        61950.0   \n",
       "\n",
       "   exchange_rate  \n",
       "0            1.0  \n",
       "1            1.0  \n",
       "2            1.0  \n",
       "3            1.0  \n",
       "4            1.0  "
      ]
     },
     "execution_count": 32,
     "metadata": {},
     "output_type": "execute_result"
    }
   ],
   "source": [
    "df.head()"
   ]
  },
  {
   "cell_type": "code",
   "execution_count": 33,
   "metadata": {
    "colab": {
     "base_uri": "https://localhost:8080/"
    },
    "id": "MiapoHHB731V",
    "outputId": "8f0cbfb0-3f0a-412b-c73c-18d8d5932dc2"
   },
   "outputs": [
    {
     "data": {
      "text/plain": [
       "1.0    7657\n",
       "0.0    1306\n",
       "Name: exchange_rate, dtype: int64"
      ]
     },
     "execution_count": 33,
     "metadata": {},
     "output_type": "execute_result"
    }
   ],
   "source": [
    "df['exchange_rate'].value_counts()"
   ]
  },
  {
   "cell_type": "code",
   "execution_count": 34,
   "metadata": {
    "colab": {
     "base_uri": "https://localhost:8080/",
     "height": 272
    },
    "id": "1y9upKv98C2c",
    "outputId": "4ded73c3-0dc5-4e43-e735-3b9e90d9bb36"
   },
   "outputs": [
    {
     "data": {
      "text/plain": [
       "<AxesSubplot:>"
      ]
     },
     "execution_count": 34,
     "metadata": {},
     "output_type": "execute_result"
    },
    {
     "data": {
      "image/png": "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\n",
      "text/plain": [
       "<Figure size 432x288 with 1 Axes>"
      ]
     },
     "metadata": {
      "needs_background": "light"
     },
     "output_type": "display_data"
    }
   ],
   "source": [
    " df['exchange_rate'].value_counts().plot(kind=\"bar\")"
   ]
  },
  {
   "cell_type": "code",
   "execution_count": 35,
   "metadata": {
    "id": "UL_Vg2fb3luR"
   },
   "outputs": [],
   "source": [
    "amounts = df['amount'].values\n",
    " \n",
    " \n",
    "amounts = amounts.reshape(-1, 1)\n",
    "amounts = amounts.astype('float64')"
   ]
  },
  {
   "cell_type": "code",
   "execution_count": 36,
   "metadata": {
    "id": "8J4Gq_dr3l5f"
   },
   "outputs": [],
   "source": [
    " # Import kmeans from SciPy\n",
    "from scipy.cluster.vq import kmeans\n",
    "    \n",
    "# Specify the data and the number of clusters to kmeans()\n",
    "centroids, avg_distance = kmeans(amounts, 4)"
   ]
  },
  {
   "cell_type": "code",
   "execution_count": 37,
   "metadata": {
    "id": "AxMjJ3Dp3mEF"
   },
   "outputs": [],
   "source": [
    " # Get the groups (clusters) and distances\n",
    "from scipy import cluster\n",
    " \n",
    "groups, cdist = cluster.vq.vq(amounts, centroids)"
   ]
  },
  {
   "cell_type": "code",
   "execution_count": 38,
   "metadata": {
    "colab": {
     "base_uri": "https://localhost:8080/"
    },
    "id": "zylelMPQ7N2D",
    "outputId": "f38540b8-d5b1-4195-8fff-ce304beafaca"
   },
   "outputs": [
    {
     "data": {
      "text/plain": [
       "(8963,)"
      ]
     },
     "execution_count": 38,
     "metadata": {},
     "output_type": "execute_result"
    }
   ],
   "source": [
    "df['amount'].shape"
   ]
  },
  {
   "cell_type": "code",
   "execution_count": 39,
   "metadata": {
    "colab": {
     "base_uri": "https://localhost:8080/",
     "height": 231
    },
    "id": "IcA4rw5I3mMx",
    "outputId": "73c3be88-bb16-4bf0-b8df-257582a0b94e"
   },
   "outputs": [
    {
     "data": {
      "image/png": "iVBORw0KGgoAAAANSUhEUgAAAY0AAAEGCAYAAACZ0MnKAAAAOXRFWHRTb2Z0d2FyZQBNYXRwbG90bGliIHZlcnNpb24zLjMuNCwgaHR0cHM6Ly9tYXRwbG90bGliLm9yZy8QVMy6AAAACXBIWXMAAAsTAAALEwEAmpwYAAB7wUlEQVR4nO2dd3gcxdnAf+/uXlMvltx7r9jGxjY2YLrpvUOAhBpaAoFQv0ASEkISQkiAhF5C7733amODsXHvvUpWv7a38/1xJ1nyFZ2aZcvze5577m52d2Z2T9p3562ilEKj0Wg0mnQw2nsCGo1Go9l90EJDo9FoNGmjhYZGo9Fo0kYLDY1Go9GkjRYaGo1Go0kbq70n0FZ06tRJ9enTp72nodFoNLsVs2bN2qqUKkq2vcMKjT59+jBz5sz2noZGo9HsVojIqlTbtXpKo9FoNGmjhYZGo9Fo0kYLDY1Go9GkjRYaGo1Go0mbDmsIbwlrFq/j+w/n0KVfMYKQVZjFsuJKDBMO7ToKt+lq7ylqWohSIQBE3O08E41m90ILjXq8cu/b3HfFow3agodkE7iqM2yNfr/tp5cAEMBjuCjyZDOt62jeXP89GwJlALjE5O9jz2Fi0SAAquwAL676ljfWzWJdTSmmGEzoNIDfjzqVLJePT2Yv5e8vfsaW8mqKcjO59pSp7D+qHzMWrubr+SvJy8rgqAlDKc7L2lmXos1ZX1LB0x9/z6I1WxjSs5gzDx5D14KcNh9XRTaiym+E0DfR7+7xSM6fEKtHm4+t0XQEpKNmuR03bpxqisvtCYXnUrWtpkGbU2BQ+WQ/EGnWHB7e5xI8lsXF0x+kOhKM2+42LC5xH8M/nv+SHX+Gfl0L2FBaiT8Yxm2ZGIbwlwuOYr+R/Zo1l12JRWs284u/P0/IjmBHHCzTwG2ZPPKb0xjUI6l7eItRKoTacgg4mwEn1mqAUYAUfYyIt83G1mh2F0RkllJqXLLt2qYBvP3QR3ECAyBwTqcW9XvlrEe5YfYzCQUGQChic/eHn8QJDIDlG0rxB8PR/ewIgZDNjY+8Qyhst2hOuwJ3PPsJNcEwdiR647YjDjXBMHc+/0nbDhz8BJwKtgsMop9VDQTebduxNZoOglZPAf+4+D8J21V+yy5PdSRIwB9Oul0BKsOGkvRtJHNWbGDcoJ4tmlfd+Eoxe9l63p+5CMMwOGKfIYzo06VV+k415pwV6xNum70scXurYa8CEghwVYOyV9K89WT6OPZqqPg92IvA7A05N2O4hrTxqBpN66KFBkTv3gmwvqzEHp/Roq4jykm5XVWaafellMIyW29x+NfnP+G1r+cRCNsIwitfzeWcQ/bm0mP2bbUxdkRE8Lld1ATjhanP3cYOBq7BIF5Q1TtMKgNxDW3ToZ3QTCg9i7o/NmcTlByLk/cvDO/hbTq2RtOaaPVUCtwfViIlNg30R61oAxIBjPT7c7ssRvbt2ipjz1+1iVe/noc/ZKMUOEoRCNk88cFMVm/e1ipjJOOEySPxuBo+r3hcJidOGdmm4+KeAmZ3oL7HlAVGEXgOatuxy64i4dNJ+W/bdlyNppXRQiMFAmSevxLXuxUQcMBpucColTnKARUGwol/Ass08Lgs3JZJhseFz+Pi+tMPwmimUX5HPpuzjGAC+4hS8MXcFa0yRjIuP34yk4b1xu0yyfK68bhMJg/vy2XHtt0KB0DERAqeAd/JIDkg2eA7ASl8HpE2XuU4WxK3qxocp6ptx9ZoWhGtnmoEIwLWx+XgdwhPywFf8+TssNzuLKvcRCBs46xzo6os1GofBBP3V5DlQ0TIz8mgpLya8mo/tz7xHne//Dl//vmR7NW/W0tOC6/bwjIMwpGG6jPDEDyu9FVmzcHjsrjrkmNZt7WclZu20adzPt075bbpmLWIkY3k3gq5t+6U8eqNTFI9KDruR7P7oFcaaRAZ7iN8RA7YCtaHmny813BxzdBjOK33vnhcFmqDF7U0I6nAEGBzeTWbyqpYuHozW8qrCdkOgZDNxtJKfvmvl9laXp3w2HQ5bO/BGEb8+ErBQaMHtqjvdOneKZfJw/vsNIHRrlhJVG9GdwzD0ypDKKVwqh7H2TQRZ+MInK0n4IQWtErfGk0tWmikgef5Mry3ro8Kjc6uRu0aBoLbsMgwPWRZHq4ffhwj83px4YCDGVvQF9/eAYz8CJgKI8FarzElmOM4vPnt/OafENEb9kVHTWgQgmKIcO0pB1CQ0zLj/56OUhGc6sdwthyCs3kSTvmNkPsXkLwd9vRBwVOtN27FzVB1O6hSIAT2PCg9ASesBYem9dDqqUYQAK8gIrifLCF0aTFYqe0KlpjcMuJE+mYV0zerGFdMMnhMF/eMO59llRtZOnYTqsLk9v9+SrWd3C03EcFwhA2llc08oyj+YJinPvphBwmleOidGRyz73BcZtuqqDoyqvyGWNxHINrgfxWCnyJFH6BCMyD0NVh7Ib7jkFayUTmRKvC/mGgLlN0ARa+2yjgajV5pNIICCCiseX7sUwvA3fglCymbF9dMZ1BOtzqBUZ/+2V04vNteHNB3ENWBpgkMAJ/Hxd6Dujf5uPq8P2sx/mC4gcxwFFTUBPmyjQ3hHRllr4HAO9QJDABscKpQNc9jeA/FyPkdRsbxrSYwAAjPIOkaNbKk9cbR7PHolUYjCBAphOo/90J1qaeaauQffl1NKX47xHsbZrOwYgMDsjozrftosqztqSoqaxJHiqfCbZn06JTLgaMHNPnY+qzevA1/KF5ghWyb1ZvLWtT3Ho09H8QFasffNgChGcCFbTOukSL9ik7KqGlFtNBIA6MEsi9aTXC8j+D1XcHXuOqmIuznqE/vwFYRApEwXsPFA0s/4tFJl9I9owCAguzMlH24LIOw7WCIoFCICMfvO5wrT9ivxeqjwT2LyPDEB9m5LbNN8z91eMzuQCTBBhdYfdtsWHGNQJEJJHCQ8J3cZuNq9jy0eqoRHCBwah4VL/QleGt38KZ3yUKOTZUdIBCJ3pQDTpiKcA13zHu1bh/LMtirX2LX2X2H9a5TXzhKRQPwHMUnPy7D2wqR0wfuNYCCnAzMeh5UlmnQoyiXCUN6tbj/PRZrOJh9iXseEwt8J+FUP4NTfhNO9WMop7zVhhURKHiChoGLAtZQJPu6Vhtnd0LZq3Gq7sOp/Dsq9D0dNTnrzkavNBpBAOvtMkLjMmCQF1zNl7MOiu9KluEoh9lL1/P7/32QUBUkAvNWbSIUjn9irQmGmb1sHWMHRlN5byip4Kp7X2XFplI8LovrTp3KsfuOaHCMHXHYUl5FboaXDG/0puKyTAqyfazdUt5gv8552RhGW2dhSo7jKNaXlJPl85CX5Uv7OOXUAA5itDx9vFKRqCpJlYFrLGJ2TvvY6M37UVTZdVGDNwJmZ8i6Frb9HJwqwA94UVX/hsLnwewD4e/B2QauMYjZvESZhnskqngGKvAORNaDeyLiHte6tpPdBKfmVai4hehjn42qfgJ8R0DOn/fI69GaaKGRgtrnEtMPRlUEx91yjyIHxS0vv8k7Hy5LPq6C8upA0u1VgWisyPINJZz8+yfq2muCYW598gPe/W4R9111EgCvfvUTd7/8OSE7guMojthnCDecfhCf/bicOcs3xvX9xU8r+HH5+qQroLbksx+X8YenPqAmGCbiKMYP6sHtPz+S3MzkKcuj9TF+C6Hvot+toUjeXxCreTYfZS9HlZ4LKhalrcKojPMxcq5Juw8x8pGCB1FOFSg/GJ1Q5VeDU8p21VUAVBBVdm20XZUBAiqEyrwQI/uqZs1fjAwk46RmHdtRUE5FTGDUtyv5ow4K3mPAM7m9ptYh0OqpFNTG8NpjvOAxoSbS8txTCt5dMbfZh9uRCGNi0eA/+8szCff5duFqqv1BvvxpBXc+/wkVNUECIZuQHeHd7xbxp2c+4i/Pf5x0jN89/l6z59dcFq3ZzA2PvE1ppZ9AyCZsR/hu0Rquuu/VpMcoZaNKTofQdMCOvuyfUCWno5ymuyQrpVDbLorW21DVscSGIah5AhVoetp2MbIQsyj6ZBv8hHhbhwJ7LjjrY+NVxcZ7pFnjaWIEv4yqA3dE+VGBN3f+fDoYWmg0ggFYswNY82qQQOqMtWkhoEJNXx4L4HVZXHXifmRnRJ+8E2WKreVfr33Jw+9MJxBqmF8qGLZ597tFKT23Sivia4u0NU999H2cOi4ccVi8ZgsrNpYmPij4OahyGtbHUEAY5X+96ZOwF4KzlXjXVT+qpqVBeKkW9TuMp/yomidbON4ejJiQMNG9oFO2tBwtNNJAbHC9WY5CNR6unU5/+TZN7ahPlwL+++uTOX3qmLSPSRYAaBoGhSmivvt0zm/S3FqDtVvLcRKs4kzTYHNZkoR+kbWxrI87oPwQWdX0Sagakv5LqJYFU+I7noZGagAz9kqAU9Gy8fZk3FNI7MHmRXzH7ezZdDi00GgEBSgLQsfmRY3gQotUVEoBOTaJn4QSYwhcdeJ+cWnRM73Jn5p+fcIBZHoT++cbhnD1SQckPfaaU5Jvayv2GdwTtxV/Aw3bkeQuwK6hidUQkoG4mpFm3TWCxMLcC94jm95f/SllXQ2u4SC+aH+SETWAkyjvlBe8R7RovD0ZMTKRvH8Svc4+otfYA5nnIu6923l2uz9tKjRE5NciMk9EfhKRZ0TEKyIFIvKBiCyJvefX2/8GEVkqIotE5PB67XuLyNzYtntkJ7s/RHpb2CMyolcrrJpdM7wWNS8TJH1V14g+XZg8vE9c+z2XJn5q6lOcz+wV61lXktil87Lj9uWgMQMZ1iveK2jC0N6MSmEEr/QH2VbZ+uqr06aOJsvnwaxXZMrrtjjjwDHkJ/Oico0DazANb7wuMDpBMwobiXgg54+Al7oVgGSA1RfJOLXJ/TXo28hACp5F8h9Hcm5E8v6LdHobcn4fG6/2vH1g9kAyTm/ReHs64pmKFH+OZN+CZF+LdHoTI/vq9p5Wh6DNvKdEpDtwJTBMKeUXkeeB04FhwEdKqTtE5HrgeuC3IjIstn040A34UEQGKaUiwP3ARcC3wNvANOCdtpr7jljLbLzPl+C/ritktkzOioA5sQJnhRfZ6uXQvsM4ep9hLFm3Fcsy6NelgHtf/5pVm7aR7fNw3mHjOHG/UQ3iKWq5741vEo6xass2Xvp8TkKXXY/LYmD3IgxDePTa03jpi7m8/s1PmIbBiVNGcuy+wxO6JG4tr+aWx95l1pK1CNCjKI/fn3s4w1tQHraiOsC6knK6F+aSn53BMzeexYNvf8uX81aSm+HlrEPGctQ+ySvqRd1bH0NV3Qv+l0FFwDsNyf4V0swoaMN3FMoahKp5BpwtiOdA8B3d7P4aYoOzERXZhIgPCGFkHItyDUTVPB01wLsPRDKOi23XtAQx8iBDBza2Nm3tcmsBPhEJAxnAeuAGYGps++PAp8BvgeOAZ5VSQWCFiCwF9hGRlUCOUuobABF5AjienSQ0BAh3M/Bf3QWyzah+qYUrDZ/XgqE2fx5zLJOLBgMwecT2aOF9hzeMHF62fitvTl9AOBzhuH2HMzCmrpmzYkPC/pUi6SrDMo0647jLMhk/uAeV/gCmYbD3oB4JhZPjKC78xwus3VJGJFaIasXGUi6++0Veue08inKbFhsRcRz+8uwnvP7NPFyWSTgS4fhJI7j2tKnceOYhTepLxIdk/wayf9Ok41L26RqI5P5fq/UHoJxtqJJTo4Z2VY2SDKi8EwpfQFxDkdw/tOp4Gk1b0WZCQym1TkT+BqwmGs30vlLqfRHprJTaENtng4gUxw7pTnQlUcvaWFs49nnH9jhE5CKiKxJ69WqdqGYFWJscfPdswn9ZMRS17InTJSa/GXYMB3YeTrYr9dOkUopbHnuXd75bWGdGefqTHxg/uAf/vuJETDO+iFIt+w7rw8qNpfh38J6KRJw6l93/vvUNj703EzsSQUR48O1vueL4KZx50NgGx3y/dC1byqrqBEYtdsTh1a9+4sIjJzblEvDAW9N5c/p8QnaEkB1dDb3+7TwKcjK46Kim9bW7oCr/ApF1RF2DiRrdVQBVfjNS8Ei7zk2jaQptZtOI2SqOA/oSVTdlisjZqQ5J0KZStMc3KvWAUmqcUmpcUVHL8yfVDqIiRCPCc1suY4fldufYHuMaFRgAH3y/mHdnLoqzu3+3aC2Pv/cdh48bnPA4j8vkoqMnMqx3F3yeqLHcNASvy+LGMw8mw+tm6bqtPPbeTIJhm4ijsCMOwXCEe179kg2lDT13NpRUJLT9h+wIKzc1vZ74s5/8EOcKHAjZPPPJD03ua7ch8B51AqMOB0LfoBJ5gGk0uyhtqZ46BFihlNoCICIvA/sCm0Ska2yV0RXYHNt/LdCz3vE9iKqz1sY+79je5tQG91X+vRsMihnCHRV1Z2omK6qT1IpOwEufz8VJUpf82U9m8+6fL+KHJWtZXS8ViGEI915xIi7T5P6rTuKzOcv47Mdl5GX5OH7yCPp1LQTg49lLsSPxNg8hGpl9+oHbXXuH9uqc0B3W57YYO6BpKdqVUlT5E8eINCfr7+6DTl2h6Ri0pffUamCiiGTEvJ0OBhYArwPnxvY5F3gt9vl14HQR8YhIX2AgMCOmyqoUkYmxfn5W75g2pfY2mXPNejLPWQ4bw1GB0VKX2zQJ2Ts+mW4nELYpr/HTszgfQ6K3pKLcTJ647vS6vFSWaXDwmIH8/rxpXH3yAXUCA6JV+hIjcYbwAd07MXFoLzyu7c8YlmmQm+njyBSG6oS9izCoZ+JV4JCexQnbOwTeI4kPLDPBPQURHXCm2X1oM6GhlJoOvAh8D8yNjfUAcAdwqIgsAQ6NfUcpNQ94HpgPvAtcFvOcArgUeAhYCixjJ3pOKSB4SBY1f+sJOQYEnGYbwi0xOaRL+vEDx04annQox3E45fdP8O2CVTixmMMt5dVccvdLbKvyN9r3IWMHYiVMr64S1uq486KjufDICXQtyKEgO4Pj9x3BUzecWaf+agrXnXogXrdVJ7gMEbxui2tPm9rkvnYXJPtaMHuDZAJm9N0o1gZwzW6HdNR0wePGjVMzZ85Ma99DjVOSbnMAZ4Cb0ME5hKdmQU7sabuJgsNnuijy5PLwxEvIdW+Pxl6+oYQZi1Zj2w5T9xpAp9xMyqr8FOZG9znvzmdZsHpzsm7j8LgsLj1mEj87dFyj+z75wUzue+PrOocwBfz21AM5YUozAuOayOK1W3j43RksWbuFQT2K+MURExjYvXnZXXcXlIpEU5/Yi6K1NTwH6VWGZpdDRGYppZLeQLTQILXQUEDV3m6cm7tHVVOOgKfpC7S+mcVcO+xY+mcX88CSj/hk4zwqZ7rxrzLjzPpG7AbeJT8bj8tiXUk5SinsSHq/1aFjB/KXC49Oa9/1JeV8MnsZlf4gP63YwPdL1+F1uzhh8gguPmoibldbe2VrNJpdicaEhr4jpIGrk5sgRotqaayo3syvZj5GpstDZdhPaJ2Fs9qb0A+s1vadLHdUY3zx0wrKqwMpU4rX0q0wl6MmDOXEWx+joiaIoxSBkM3TH3/PknVbueey45s1B41G0zHRuacaQQDPe1V4/rsJQi3LchtSNmWhamzl4Kz0RVctbYDjKF796qe093/5y7n4Q3YDD6lgOJqafPmGkraYokaj2U3RQiMFiu0LAWteAFwtv8mruA+tT8iOMG9VfIGlZPy0ciPBcLynlmUKS9Ztbc2paTSa3RwtNFJQKyKCx+VQfWvrVrIzegRBWiY5uhXm4EmQGdbjMuMyw9YEQnw2Zxlf/bQiTkAM7NYpYYbZiKPo3Q5p0jUaza6Ltmk0ggJUWEGnmJdLrQqnGW63HrGIKAcbB+kZgDUeKHHRnMCvbJ+HN/7wc87/63MsXLO5Lh2HEM0pdeLk7R5Q789axK1PvN8gr9TfLjqaCUN7A3Dy/qN4+pMf6vog1seg7kUdO3ZCo9E0Gb3SaAQBPO9WYr1bBltDUNN0u4bXdOE1XJzRdzLX9ToJqqIeU8akchhYQyJdVfLguyjDe3dGRPj3FSdw+LjBuCwTQ4TRA7rz2LWnUxArsrS+pILfPf4+gZBNdSBU97r6P29QGYvMLsrL4uFrTmV4ny4YIrhMg0PGDOTfV5zQ5HPVaDQdG73SSANxwPVJJfa0HLCMJq0yLAyenfwrCj1ZeEwXEcfh3sdnUBKoigaB2PFy2zKjqUAqaoL832PvxiUddFkGU0f3ByDL5+G2cw/n1p8dhqNUXJbad79biOMkEHQCn8xeyrGThgMwqEcRT/72DEJhG9M0Ema71Wg0Gn1nSEHt878DRPp4kNV2k1OI9MgspFtGPoYIr62dyeUzH6bnVBOvuPEkCexyFHjdLg7cawDdCnNx1StMZIiQ6XXHpe8QkYQ3+ip/MGEm3EjEodofimt3uywtMDQaTVL03SEFtQkLw0fmED4qD9XLDU28od44/HgiyuHy7x7l7wveYFbpCn6S5ViHlzD2wE50K8iOO8ZxFL97/D0MQ3jw6lM4cPQALNPAEGH84J48ft0ZZPkSlQmNZ/KIvvjc8cJJRJg0rHeTzkWj0Wi0eqoRDMDYGEK5BExpUhGmqwcfxeiCvny2aT4LK9YRiGxPgR2QED/4FmDUxJdcBVhXUkFpRQ0FORncccFROI5CEa9+aoyxA7qz/8i+fD53Bf5QdHyf2+LEKSPp06WgSX1pNBqNFhpp4Po+AP/ZjP/aWPU+k5SCwy0mt48+gwM6DwPgmy2L8UfiVUG2HcG2QyTynlJK4XJtd4M1DEm4X2OICLf//Ei+mLuct79biGUYHLvvcPYZ3LPxgzUaTbNQKgSRNWAURsvOdiC00GiEWguGsSGMsSyIs3dmoyuNkIrw7Kqv2a94CIYY5HsyscTEVg3rVygl4ItAZcOfwTSiaqjsNFVQjWEYwgF79eeAvfq3Sn8ajSY5TvUTUPWP6BcVRnkPRXL/jEjjaX12B7TQaIRau4Y9JgNVZIGtoletEcExq3Q5L66ezqm9J3F0973534ov44RGNBvi9tWEx2ViGgad87P5/bmHt2jeW8qrePCt6Xzx0wpyMjycdfBYjpk4LK5WRkv4Zv4qnvpoFqVVfvYf2Y8zDxxDThr5rjSajooKfAiVfyda4TpG4EMUBpL393abV2uis9zSeJZbgEg3i5r/64Lq7o3aNtLAZ7j4+NDfYYrBZ5vmc+ucFwiEbeyIA7YQmZ4D5VEjtc/t4rh9h3Po3oMY3b8bC9ds5q3pCyjIzuCU/UeRnZH+zbisys8pf3iC8upAdCzAG7Nj/OaUqWn3k4onP5jJ/W9+U1e21W2ZFOZk8OxNZzdprhpNR8IpORnCcxJscSPF3yBGvOPLrkZjWW6191QK6gRGnhA8IgfV2dMks4LfCXPy53fxU9kaDug8jPcOvokLOx2ONbOQyPsFdQIDwFEOlx4zidH9u3Hx3S9y1p+f5umPf+Dfr33F1N/8hw9mLU573Bc++5HKmmCdwIBoDe4XP59DSUV1+ieQhCp/kPve+KZBne+QHaG0oobnPvuxxf1rNLstkWS1b0xwtu3UqbQVWmikoFY+qCzBrAbZFm5yffB1/lJ+OeMh5pevxUAY1LsTffIK8cbcYE1D8LgsrjvtQLIzvPzr1S+ZuXhtgz6UUtzw8NuEEiQVTMR3i9c0SAlSi8syWbQ2/RrlyVi4ZjOWGf+nE7QjfPnTihb3r+m4KKVQoRk4lf9CVT+Jckrbe0qti3scCW+r4gKzdfPXtRfappEG1lqHSGUYVehqksttLQEnzD8Xvs26mlIqbT+BITZOoYV3UxYH9hjKL6ZOol/XQqYvXM1j7ydWqTlK8eb0BZyYRlW97p1y+X7pOhynoeox4jh0zsuq+76lvIrf/OcN5q3ahAiM7t+dv198TKN2ifwsH5EEUebROuVZ8QdoAFDhuajKf4K9EMw+SNYViGdCe09rp6GUjdp2KYRngPKj8EDV3yH/AcS9T3tPr1WQrCtRwU9B1RANCwbwQfb1iHSM261eaTSCAoKTvQTP7QRWrKReM+xAc8pWsyVYiT8SRolCisPYI7fxSf63bLS2opTi1ifeT9lHeXXjtb8BzjxoLO4d6n9bpsGAbp3o3y1aUjUYDnPsLY8wd+VGHKWIOIpZS9Zy1M0PJ047Uo/+3TrRqzgfc4dVl8dtceZBY9Ka456GCs1ClZwNoc/B2QzhGahtF+IEPmrvqe08/K9BKCowogRB1aC2XREthdsBEKsPUvgqeI8Fowe4xiP592JknNzeU2s1tNBoBAPwfBUg+/QVZJ6xDPPTimZluI0oB5UgMaGNw53zX2djaSVlVamFwjETh6c11sDunfjLhUfRKScTr8vCZZmMH9yzQRW+B96aTjAc/49aHQjx3GezGx3jX5cdz6AeRXhcFpleNz6Pi2tOPoAxA7qnNcc9DVV5Bw08agAIQOXt7TGddkH5XyL+GgCEIJx+0bBdHbF6YeTdiVH8MUbhU4hnSntPqVXpGOulNkYA5UDw9AIi+2Y3S0WVik2BcsRSDSrn7cgxE4fRKTcz7T73G9mPd/98IRtKK8j0usnL8gFRFVWVP8TMxWuSHvvt/NWcceDYlP0X5WXx1A1nsXrzNsqqAgzqUYTXrf+ckhJemLg9sh6lgoi0TkzOrk2yZ9TW/X/StC36v7wRam/jAojHAE9MRdWKf+MuMSnKyWbsgO7MWrK2gdcTRAXGbc2I2zAMoXun3Lrvz302m/tf/xp/KBxn76hPj6LcpNt2pFdxPr10yY3GMQrBWR/fLj4gceLKjoZknIwqn0vcakN8YKW3ita0P1o91QgK8J+UQ8Wr/QgfkhOtE96KAsMtFif22gcD4U8/P4L+XQvxuV1ket24LZPjJ4/gd+cc1uJx3vp2Pv98+QsqaoKEbYdIEqEhApccvW+Lx9PsQOYlgG+HRh9knIfIHvJv6D0GPPvHBKUFZIBkInn3IRJfOVKza6JXGimoXVC4vq3G6e8lMjIDClv+VGgALrFwUIzLGsAXL2zhifV347ZM9hvRl+tPP5DSSj9DehXTtSAnfl4xNZaI4A+GeePbeXwzfxVdCrI5Zf+96Ne1MO6Y/7z1bYO4ikRYpkFxbiY//9tzHD1xGKcfOBqPK/5PpKI6wMZtlXQrzEk72+6ObC6r4rlPZ7Ng9WaG9SrmtKmjKcrruJ5XknEaSm2D6v/GHCkUZJyBZF3e3lPbaYiYSP6/UKEfowZxIx+80xCj4/7uHREdEU7qiHCAUD83/ms6Q5/YDbIV9K8ZeMhcUcjGOeE487jP7WLS8N58/uNybMehc34Wfzx/Gr2LC/jzsx/x+ZwVgGLCkN6s3FRKSUU1wXAEkWi9jWG9u3DMxKEU52Xx8eyluCyT176eF6f2qqVnUQ5bymuIRJy62hsel8XQXsU8dPWpGIbw4feL+fdrX7F2SxmOikaAi8ApB+zFr07YH8MQwpEIC1dvxuOyGNi9U13Kkq9+WsE/X/mC1ZvL6FaYw4lTRvLft74lFI4QjkRwWQZuy+Kxa0+r8+5KhhNeCeXXgf0TEAFrEJJzG+JObINRkXUQ+AjEBM8hiJk4q/DOIprIbhOYnRDZceWh0bQ/jUWEa6FB42lEnAwIXlRMeGo2uKTVjHb2Nzmw2U26+q6i3ExKK2vqVEu1ebESYcSyuCti01XJ902Gz+PirxcdzeZtVdzx7McJAwa9botLjp5E3y4F3PzYuzhO1KCfn+Xj7kuPY+O2Sq574E0C9QITReK9lgXYe1APHvh1it8i9COq9AxgxxWTByl8EXENbtDqVD8KlXfVG0FBzq0YGSelfQ00mj2NxoSGVk+loM4IHgHzxxrsAR5UH3freXpUWjTFQLK1orrBzTaVEKhvsmjuc4E/GGb20nW89MXchAIDoulJHn5nBjXBUAM7iT8Y5uK7XyQvy9dAYCSbjwJ+WLou5XxU+Q3ECwyAIKr6fiTv7u372itiAiPYcNeKW1GeKe2+4tBodlf2EAtc86ir3DfEQ/C0fFQPN0Ro/l14R3JsmvL8v7MXhV63RU6ml4qaYMr9Kv3BhIb1kB1h9eb08+14E1QYrEUpP0SWJz94B5dWFXiX6I+1IwKBD9Kek0ajaYgWGo1gAJ4fg2T9dh1ZP1+J5+nSVltpmENqWqWftsI0DI6eMAy31TzPFsdRaWe89bhMjt93RIo9LKLVr5JtHtLwu4qQWCArtqd30Gg0TUULjTRwAKfAJPDLIoLnxHsmNZtcG9mrknRXGwXZGQkTBbY2bsuke2EO//3VSeRl+Tj3sKTqzZQ4yuHnh4+LC/rzuEz6dimoiyb3uCzGD+7F5cdPTtqXiAu8R5H4T9ZCsi5puL/3UJLGP3gPbtqJaDSaOrRNIwX1b+Wh8RnYe2e0SoyGqn3YrTFRy3wk6jQ/y8u2qkDd95P3H8Wlx+zLXS98yoc/LAVg/5F9WbahlPUl5Q3cab0uC9txcBwHj8vCMAwijoPXbeEPhhOmD6llYPdC7rzwaHoV59d5P11wxAQ2b6vk5a8apnrI8roJ2ZGE9g7LNDh64jDOPmQcWT4v/37tK8qq/ORkeLjgyAkcvvdgHn5vBvNWbGRkv678Yto+Cd176yM5/4ey14M9izrVk+RA3n2Iq+FKQ1yDUZm/gOqHgTDRa2xC9q8Rs31SnSinIppKIzwn6vXlOxUxW/EhpLHx67lqazTNRXtP0bj3lDLAHp9B4NR81GBfk9OjmxhEdlCJOJWCMycLtnpIJDQMQzBF6lxgTUO45Jh9Oe+wcZjG9qftsB3h4x+W8u2CVRTnZzGgWyGOgpF9u5LldfPNglVYpsG+w/oQCtuc97fnWLO5LC5liQCj+nXlH5ceS15WRsLz2FZZw9szFlDlDzFuUE8Gdi9k2o0PJYz/OGBUP/708yPxeaJP+0opguEIHpfJyk3bOO/OZwmGbUJ2tM3tsnjiujPo3Tm/0eup7KVgr0GZAzBcqWudq/BiVOA9wER80xCrX6P9twUqsh619RhQVWx/HPEihS8hroFtO7ZTjqq4HQJvAxFwT0Fyb2034anZtdEut2nQWJyGAuzeFjX39gajddRDyga10oczL/3AJkOEw8YN4k8/P7JZY349fyXXPvAm/mA44XaXZdC3SwFP33A2RpqC8at5K7nugTcJ2XYDY7jHZTGgWyGPXnt6nErton+8wKzFaxus5ERgwpBe3Hdlx3SHdUpOh/D38RvMXhhFH7bZuEo5qJJjwV5BdMUFYICRj3T6QAfWaeLQlftaSO2Nzd4/O3GAQRNxQuCsc+N8l4szL/0EhBCtqfHJ7GUs31DSrLG/+mlFUoEBELYd1m4pZ/rC1Wn3OXl4H/77q5MwdlB5BMM2KzaW8vnchh5PSim+X7IuzoqjFHy3aC0dlvAPidsjq3Gc1N5pLSI0HSJr2S4wABxwalD+N9tuXE2HRQuNNIh0N1A5FrLZbrHnlAoLzswcVBOC+uojAj8uS5D4Lg1yMn24GjGkh+wIi5tY3W/hms0JVyY1wTDTFzQUQCKS1BvL4+rI+YdSPWwkF+QtJrI85km2I/5oMSiNpom0qdAQkTwReVFEForIAhGZJCIFIvKBiCyJvefX2/8GEVkqIotE5PB67XuLyNzYtntkJ1vylNdEhRQqsaq/SZiZKiYrmrdiMQ1pUor0+hw9YShGI+o1t2XRqzivSf0W5GRiJejXbZl0zo9Xfxw1YWic4HBbJkdPHNakcXcv4nOIRXEh0rzfMy3M/tEUKnFkxLspazRp0NYrjX8C7yqlhgB7AQuA64GPlFIDgY9i3xGRYcDpwHBgGnCfbE99eT9wETAw9prWxvMGtt/WzY029hgvZMW8e1qoopLJtXWRVb1Xevg8biYN69Oscbt3yuUP5x1el0V3R0xDyMnwMGVk3yb1O2V4H9wuK27dZBjCMQkEwdUnH8DIvl3xuqMut163xah+XbnqxP2aNO5uRe7/Eb+yFMi6sm29mdwTwOxFQ/djA4wMxHdM242r6bC0mSFcRHKAH4F+qt4gIrIImKqU2iAiXYFPlVKDReQGAKXUn2P7vQfcCqwEPokJHkTkjNjxF6cav7UM4Y4bwofmEDglP5p3ymeAt+VqFGVDZGEGVLggP0RuSR4ex0uGy2LV5rKEYqQwJ4OHrzmVXsUNPYwCIZv/vPk1r309D38wjNdt0a9bIT87ZBwHjOoXd1Pyh8LMXrqesqoaXvpybp26a8KQXvzfOYdRnCDb7PyVG3ntm3nkZfo455C9ycpomN12+YYSfn3/62wpr8IQwet28aefH8E+Q3olvQaL125hxYZS+nYtYFCPojSv3O6LU/MaVP4JVBmQBVlXIJnntrkLrHIqUJV/Av/bgA2e/ZGc/0PMbm06rmb3pD1zT/UDtgCPishewCzgKqCzUmoDQExw1Jbw6Q58W+/4tbG2cOzzju07BQmB6+MKnGyD0LRcyDVapXKfWGCNiEaEq5BQviQclSQpGNa7S5zAUEpxxb9fYe6KDXXxEiE7wuyl61m46i3OOnhvLjsuGjT30Q9LuOeVL1m3tZzivCwuOWYSD119KsGwjQDuBHESSikuvOsFvq+XF+qhd6bzh/OmceSEoXVt/boW8upt57Fy0zbCdoQB3To16oE1qEfRHiEsahEjByX5oCrByAWjcKfETIiRg+TeAbl3tPlYmo5PW6qnLGAscL9SagxQTUwVlYRE/z3JauQlXB6JyEUiMlNEZm7Z0jRjbiJqB3FyLey9MqKCIpQ8MC4tnGjpWGWDCkcN45HpOaBS3zws06BPghiGeas2MX/VpoQBdoFwhCc/nEVJRTWf/biMWx59lzVbojEaG7dVcsezH/Pyl3PxuKyEAgPgfx/NaiAwIHpdbnn8XUI7JCIUEfp2ia4a0nXZ3VNQwU9RZVeBsxywwVkLFTfh1LzU3lPTaJpEWwqNtcBapdT02PcXiQqRTTG1FLH3zfX2rx+p1QNYH2vvkaA9DqXUA0qpcUqpcUVFLX+Crb3tKa9CtoVj1ZOMFq0yVESIfJaH81MWzo/ZRN4rhNJ4+8KOuEyTUw/YK659ydotpLKJuCyTOcs3cM+rX8Zlmw2EbO57/WtSqSif+Xh24vNQ8OIXcxqdtyaKqvwbENihNQBVf095/TWaXY02ExpKqY3AGhGpLXJwMDAfeB04N9Z2LvBa7PPrwOki4hGRvkQN3jNiqqxKEZkY85r6Wb1j2hwBrJURMu7cguvlbc3OdWeJyeDsbsjX+VDhQq3yodZ5IZJaAIkIPTrl8q/Lj29Q77uWnsV5KVUcSikKsjNYt7U84fayKn/StOcQjbdIRpW/DeMLOhr2qsTtTilx6ds1ml2Yts49dQXwlIi4geXA+UQF1fMi8gtgNXAKgFJqnog8T1Sw2MBlStU5mF8KPEa0yPI7sVebU/v8FxrnIXhuEWILrrfKCB+X36TVRq7l5cX9f0OuO4Nbl73H69/MT/vY28+fxuHjBicVDHsP7EGXgmxWbdoWl55cgPzsDEb160q3Tjms3Bifpjw305syi+1Bowfw0pdzE247YcrItM9jj8fsnji1u+QCzSuZq9G0B23qcquUmh1TF41SSh2vlNqmlCpRSh2slBoYey+tt//tSqn+SqnBSql36rXPVEqNiG27XO2k9Xztbdo9M0j2lWuxvq8mfGzTBAaA37G5de4LRJTDb06ZyoBuBWkdN7JPF6aNH1InMOau2MC/X/uKh96eztotZSilmLVkLWMG9KBnUV5dVLYhgttl0q9bIf/91UmICFccNwXvDnYLr9vi0mP2TblSufrk/cnyxavPjt13GEW5OgVFukj2r4Ed08T7IOsynUBQs1uhc0+RXsLCSH83/qs7o3qnVx9iR3ymmxuHn8Dh3fZCKcWc5Rv4ct5K3JZB9065WIbByk3beGv6fEzD4IyDxnDSlFEYhqCU4vanP+LtGQsIhmxM08AQGNi9iOUbSgmEwrE24eqTD2BY785ket307dJQOL0/axH3vPIl60sq6JSbySVHT+TEKaManXsgGOa+N77h49lLyPK6ufDIiRw8tm2T7HVEnJrXoepv4GwCyYOsy5GMs7XQ0OxS6ISFaZBOwkInA6qe6g+e5i/Oxhf0p09WEZ9tmo/HdHFSrwmc0nMi81du4rM5yzEMg0PGDGBIr4alSGcuXsOV976aMJvsjnhcFu//5SKyfR7mr9rE9IWryPZ5OGTsIPKyfNHzUUrfqNoRpcLR+iAazS6IFhppkExo1Nk0Dsgg8Juu21OiN/OG6zEsIkphx0w1hjKIrHcRmbk9xYQAo/p344/nHU63wlw2baviZ395mq0V6VX5y/S6+d05h/L5nOV8+MMSwnYEl2UiwF2XHMuEob2bNXeNRrNn0J7Bfbs9AjhuIdLbi2wKowotcDcvuM9AcNguMAAccaBLELJsqIr+FIpoQsLj/u9RuhTkEAjZlFY2rSzswtWb+eiHpXUrk0js/doH3uSjv16Cq5nlWzUajUYLjUaQkMLzTCnGqgChYwtQ/T3RdCJNRKEIOwlcWx1B8mxUVcOfwlGwvqSiyeM4SrFk/Vb8ofjMqQr4fuk6JgzphVKK1ZvLCNsRVm3ehmkYTBjai1A4wobSCroX5jSo7+0PhZm5aA0iwrhBPeNKuDaVLeVVPP/pj8xbtYkRfTpz6gGjm52IcXdBRTajap6MVe4bjGT8DLF6NH6gptmoWJlMSZi0UdMctNBIBxOwBXNZALunO7raaCKplIDK3/T+TEM4YFQ/PvlxWYP8iY7jpI6fUIrvl6zlxkfeobSyBjviIAJel4uQHUEAj9sibEc4ab+RXHPyVL6Yu5wbH3mnLspbKcVfLjyaycP7NHneAEvXbeXsvzxNKFZ29tsFq3jyw+956oYz6dd155U/3ZkoewVq6/GAP9oQ+gZV8zQUPoO42tZ1WTlVqMq/Q+B1wAb3gUjODYjZudFjd1eUU4mq+AME3gIiKNfeSO5tiDWgvae226PraaSBBEFEYR+eC1mt98SiHCBgQEnTjaLnHz6evfp3x2U2nE8wHGHZ+lJ87sR99ijK44p/v8rmsirsWClZpaIriYjjYDsO1YEQITvCK1/9xH2vf8X1D7+NPxSmOhCiOhCiJhjm2gfeoKzK3+R5A/zmgTfqBMb2edv85r9vNKu/3QFVdg11AqOOEGrb5W07rlKo0nPB/0I055XyQ/A9VMlJKNW8329XJ3rO58fK24YBB8IzUSWno5zSxg7XNIIWGo0gAAWC08uDbIx5L7WC84ByQJVaRL7KJXF6rdRsLa/mrW/nJ4zmDoVt9h7UHa/bwhDB47Lwui3uuOAo3pmxkIiTXlh7IGTz7KezE6e5UPDhD0uaPO9atVgiVm6KDz7sMNjzErc7G9q2cl94JkSWAaF6jRFwKqGjVu4LzwF7CQ3PWYEKoWpeaK9ZdRi0eioFtbdKKVG4P65EFVuEO5nga4XVhoCqsGKDJMvLmJz1pZUYyarwCfz6xP2pCoSYvmA1WRkeDhs7iIKcDD6ZvTRl2pAdCYRsVALlmu04VPtDCY7QJCbVg4ZNm0WF24tjS9od8aPC8xBSu5vvlkRWxEoz77ghoKsVtgJaaKRAgEgB2COysId7sSdlgtk68Q0iYPYLoHoFcOZkodb4mjSvdVvKmDSsNys3lsbFb3TKzaRPlwJEhJF9uzbYNm5QD975bmHKWuH16de1gLVby+PGsAyDfZth0xARMr1uqgPxAicrQWGoDoPkg0q0kvIg0golIZNh9olW7tvxBio+sDpogKY1KIk2wAuWTn3TUrR6qhGMUnB/XkXG/Vtxv7CtWZ5TKVGgNrrZ8b861SgKWFdSwRvfzqdLQTY+t4XLNMjwuMjJ8PC3i45JGrx38JiBdC/MwWWl/umjhZQsbjn7UA4ZM7CBjcTndnH0xGEM7N4pzZNsyA1nHBTnsSwCN515cLP62y3I+QPx/24GZF/XxpX7JoHRmYbPhwbgQXzHtd247Yi4hoFrJA1XbwaID8k4qb2m1WHQK400iPggeFkx9uTWy7WkFBAUnGVecIT6YqIoN5Np44fQo1Muz306m/WlFdgRp85wXUswHGH91nLuuex4Fq/dSmFOJlNH909qBIdoqvTHrj2d/330PW9PX4DtOBRk++jTpYAx/bvz9byVLNtQwuCexVxwxD7061pIhsfFiD5dmLVkHYYBR08czr7DGg8SDNsRFq3dQobHRd/YygfgyH2GkuFxc9eLn7FxWyVdC3K4+uT9OWBU/2Zdy90Bw3cYDvdEK/c5G0AKIfsajDa+iYkYUPg0qvx3EPwIcMA9Hsn5I2J03NxhUvBg1GPM/wqoEHimINk3IUZ8pmhN09AR4TQeEa4Ae7QX/+XF0DWmQmlJTQ0b1AYPzvc5Sff5z1UnNSiVes4dTzNv1aak+08c2otfnbgfr349j3dnLEQBh44dxOXHTSYnc3u8xczFa7j50XfYXFZd19atMIe/XHAUw/t0adDnwjWbuea/b1BWWQMI2Rke/nLhUezVrxsRx+Hx92fyzCc/UB0IMWZAd645+YA6l9mPvl/Cbf97H6Ug4jh0Lcjh7l8eR8+ivKZdrFZGqQCq+qHYzcQB33FI5kWI0YYqol0EpRyiMQv6WVGTHJ1GJA1SCQ0FOD1NyLIITcgkfEIeuJpvCFc1Bs5SH2qFj1RKqAyPiy/v3u6O+Zv/vsHHs5cm3V8kqlISkboVics06NYpl+dvOQeXafLTyo38/K/PYjvxv7nHZfLS786lW2H0SawmEOKIGx+icoeYjwyPi7duv4B/vPQZ781c3KDeRqbXzfO3nIM/GObsPz/doOiTIUJxfhZv/uEX7VbVL+qKeQaE57G9hoUHrAFI4Ys6AEyjoXGhkZZNQ0SuEpEcifKwiHwvIoe13jR3TeqURkpRc24h4ZPyoRFbQKO4FPjN6JU3negrATU7GKrPPmRsXerzRESf6FUDFVY44rClrIrPf4zWcbjv9a8SCgyIqrqe/WR23fePZy/FTuCa6yjFS1/M4Z0ZC+MKNFUHQjz67gxe/HwO4Ugk7riK6gA/7FA6dqcS+jbmPVNfEAaj3jbBz9trVhrNbkW6d8CfK6UqgMOAIqLFlPaYKvVS5uB+vwLWBqP5PVqwOhOXwpxQgXlYCcYBZeBNz/11dP/uZPqaHgRYEwyzeF20XvqStVtT7rt0fUnd55KKmsR1x0M2yzaUJBQoAJ/OWc6mssq4glAQXQ2VVFYnOGonEZ4LKkFMhKpBhXXpWo0mHdIVGrWPuEcCjyqlfiS1g0+HQQCjCjwfV5FzxVrM+YEW2TPq+vUojOwIVFsk8uHPyYj32x8/qFdcW2P4PC56xMrE9u2avPiTAKP6brdpjB7QDbcZr67J8LgY3qtzUrlZ7Q+x34h++BLkpgrbDqP7d2/aCbQmZleQRPVQfIjZNUG7RqPZkXSFxiwReZ+o0HhPRLJpdrXs3Yc6m4YLaq4vpuL5fkRGpB9PkQ7ufapJJH/vuzLeq+bSYyZhGol/MiEaA1FfnhkieF0Wh+w9CIBLjp6EmcSe4PO4OPWA0XXfR/XtyrjBPRokJvS6LIb26syhew9KKjfzsrwcsc8QuhXm4qln+/G5LU6bOprivHb02PEeStQNc0d/Xxd4j2yPGWk0ux3pCo1fANcD45VSNYCbqIqqQyPEBEe+EHFJTDVFi9OIeA0Xnb25DMjqwoUT9uOZm85k4tBedM7P4uDRA3jvzxcyrHd8Mrn+3Trx2LWn0XmHG68hsP+ofjxyzamMH9wT0zAwDYPR/bvx+HWn17ngjh3Yg7suOZbcHVYxI/p04ZmbzqYgZ7sHkYjw94uP5eqT9mdYr2KG9CzmiuOncN+VJ1KUl8WQnvHzc5smpx84Go/L4vHrTueSo/dlaK9ixg/qwe/Pm8avTtyvRdetpYh4kcJnwBpK9E/YDdYgpODpDu1+qtm9UCqCCs9H2UsTp/BpZ9LynpKog/1ZQD+l1O9FpBfQRSk1o60n2Fxas3IfgDIhPD6T4Al5OCOb5575s777c/ngaTiO4t7Xv+KZT34AQBB6d87HFNhrQHcuPWYSmd7EaSUcxyFoR0BBlT/I2i3buOSfLxOOGcAPGzeIW885HIVKGK/x/qzF3PLYu4Rj9ooMj4uzDh5Lv66FHDJmIGay1CQ7sGDVJs7767N14wIM7lHEE9efEZdEsRalFBFHYaU5RluiIlsBBzGL23sqGk0dKvhVLLllMOoSbnZG8u/bqdl5W8XlVkTuJ6qOOkgpNVRE8oH3lVLjW2+qrUtrl3tVLghc0YnwwXnNtmm8ccB1dPbl8dDb03nkvRlJy7caIrx867n0Ks7HcRSPvDuD/775DZF6v1Wm183hew/k5a/iE+EVZPn48K+XxLWv2VLG8b97NOlCyRDhd+ccyjGThjd6Lufc8TQL12xuYPD2ui3++6uT41KXhO0I/3r1S577dDbhiIMhwpgB3bjl7EPpVZzf6FgazZ6AimxAbTkcCNRrFZB8pPhzRHZOmp1WcbkFJiilLiN2NkqpbUTX9x2euqSFYXA/XwYV6Sf725EMy4NSiic/nJWy3rejFBf8/XkA/vnK59z3xtcNBAZE3VsTCQyA0io/W8uq4trvfe2rlJo1Ryl+98T7CY+tz4qNpSzbUBLnIRUM2/zvo+/j9r/1yfd55pMf6lYljlLMWrKOM/70PzaUNr3QlEbTEVE1LxFvKlZACIJftMOMEpOu0AhLNPJJAYhIEXuAIRy22zXCozz4f9sVcpofAPbVlkVEHJW6SFKMrRU1VAdCDWInmsL1D78V17ZiY3q1BO5/65uU20sqqhOqmJSCTaWVcft++P2ShC64gaDNEx+ktxrUaDo8ziYapnOPoSLgpHaX35mkKzTuAV4BikXkduBL4E9tNqtdCEUsDm95GGNmFfibJyvdYuEoRU0glHaN7vPufLbZhrDivOy4tqG90tPfby1PHUsxuEdRnU2kPm7LZNIOOanWbi3HSuLxpYDZS9enNSeNpqMjnn0hYcZjB9x77/T5JCMtoaGUegq4DvgzsAE4XinV4auZ1M89pXIN1NAMyGjmSkNg36JB3PLYu2kXQYoG0TVPaPzx/Glxbb88ZnLKqPJaDh07KOX27AwvP582oYE7rss0yM30ctrU0Q327VWcnzQQEKB3Z23T0GgA8BwCZj+gXiyR+MB75C5VpjatzGUiMhGYp5S6N/Y9W0QmKKWmt+ns2pla1VRoHy+Bm7qDJVEdTBMM4S4xERF+O+w4JGzy7cLVCVU1rckR4wZjJHi6L87P4v6rTuQ3D7xBtT9EomkU5WZy9MRhjY5x4ZETGNCtkP99OIttVX72G9mP8w4bR15WwziW/Cwfx00azstfzsXZYdXkdpmce1hSe5tGs0ch4opmJK5+CgJvgHiRjNPBe2x7T60B6XpP/QCMVbGdRcQAZiqlxrbx/JpNa3lPOUBkgIuaa7pAngVZBjTBZbRvZhF/G3sOPTM7sb6knJNve6JBIr90qRVgtRTlZnLzWYew38h+3PjwW3zy43JyMz08ce3pFBckz54L4DiKlZtKiTgOj733HZ/OWY4IHLb3YG44/aC01WfpEnEcHnx7Oo+99x0hO4IA+dkZ3Pqzw5gyom+rjqXRaFpGY95T6eZIFlVPuiilHNmD8is7nSyslSHsAdJkQ/j6mm18tmk+XstNWbAat8dsltB45qaz6dulANtx4uIvfvezwzlr3VZM0yA/N7PRvgxD6lKY3/7zto+ENg2DS46exCVHTyIQsvEHQ+Rl+dq2+JBGo2kT0r3xLxeRK4H7Y99/CSxvmyntOtRW7nZ/68f1vZ+aW7sR6dY0T+OgsvnX4ndxGy5CThhrRAbGd5k4TfDcFWBQjyIAXDQUWs9/Npu/v/BZnTurIcLFR03kgiMnNHpTDoZtnvt0Nm9OX4ApwnH7juCk/UcmDc5rDbxuq4EtpCUoFYLgV6DKwT0RMbs0fpBGo2kR6f73XkLUg+pmovfSj4CL2mpSuwq1t1y7i0HgkmIiw2IGqibaNRQQdKKpzsOdazD2DeHMyoGa9G7OhTmJI9C/mb+Kv73wWYN06I5S/Oetb+iUm8UJU0Yk7dNxFJf+8yUWrt5ct/K559Uv+Gr+Cu755fG7/CpAheejSs8DbMABZaMyf46RfXU7z0yj6dik6z21WSl1ulKqWCnVWSl1plJqc1tPbldAAeZGB9/dm3G9UQ6RVjBiF9gYoysb3y9GRU2QVZu2xbU//sF3cSVgISrT/vvW17HPimDYjnPd/WbBKhav3dJAVRYI2Xy/eB1zV2xMe27tgVIR1LYLQJWBqgJVA4Sg5nFU8Mv2np5G06FJudIQkeuUUneKyL9IkL9bKXVlm81sF6HWAG13trAPyI5mB9zJuF0m60sq4txTN29LHrldWunng1mLueulz9hSVk2G18W5h43n/MPGYxjCD0vXxhV6AghHIsxeto5R/XbhVOHh2aD88e3Kj6p5FvFM2elT0mj2FBpTTy2Ive+xYbsKUBYYpmB9VYWTZRI5MKtlNcIjoFYlTkiYiFA4woBuhXHtE4f2ZmWCFQhA5/wsfvfEe3XpSqr8IR5+ZzphO8IlR0+iKDcLr9uKS2fitkw6pWFMb1dUgKTlXFQ7FnnSaPYAUqqnlFJvxN4fT/TaOVNsXxQgNpgLgpjzaohMyIAkEc5p44Da7CZR8aUd8botjpowlKJ66dArawJsq/Jz/uHjyfDEZ7K1DME0jDiBEAjZ/O/DWYQjEaaNH5KwNodlGhw4etcJJEqIe2xU8sbhQ7zH7PTpaDR7Eo2pp94gxZ1NKbVrRZ20MrXeUwoIHZxF8LJicDdNYAiC2uESiguMA7fhfJUXq9yXmK4FOZxx0GjOPDAaDrOxtJKbH32HOSs2IEDvLgX87eJjeO7T2XyzYBVOxKFPlwJuPPNgfnXfawn7tCMOldVBCnIyuO/KE/ntg29RVh1V9RTlZvHXi45OmFJ9V0LEh8r5A1TcDISBSDT9gjUMfEe39/Q0mg5NY+qpv8XeTwS6AP+LfT8DWNlGc9plqFWAKECFHVgRhAHeaGR4GuS7Mumekc+Syo0EnYZP/WKR0nsq0+vmrdt/Uffdjjj84u/Psbmsqi6ifOm6rVz3wJu8/oefx0Vi9+tayOxl8XmdPC6L3KyoF9jIvl156/ZfsHLTNkxD6FmUt8t7TdViZByLcg9D1bwITiniPRg8B7MHhQ9pNO1CY+qpz5RSnwFjlFKnKaXeiL3OBNKyNoqIKSI/iMibse8FIvKBiCyJvefX2/cGEVkqIotE5PB67XuLyNzYtntkJ97Zalcbni9rcC0PgZn+0GXhapZVbsJRCq8RfXoXR1A2ON/lgErcl2kIU0f1a9D2zfyVlFcH4lKQhCMOb3wzn9Wby6io3p6H//LjJuN1NbyBet1WrOTr9p9dROjbpYBexfm7jcCoRawBGDnXY+TdiXgP1wJDo9kJpPtfViQi/ZRSywFEpC9QlOaxVxE1qNfmtrge+EgpdYeIXB/7/lsRGQacDgwHugEfisggpVSEaFDhRcC3wNvANOCdNMdvEbXqqUhPNyoUiSnr0ovTUIDfCUfTZrgzMcJC9TaHyIwcCCRfZfg8Ln510v4N2taXVCRMdBgM2/z7tS/5z5vfEHEc9hvZl9t+djhjB/bgn5cdzz9f/pxlG0rolJvFRUdOaFBgKRS2ueO5j/noh6WICEeOH8LVJ++PlWZw3w9L1/Hsp7MpqajmgFH9OHHKKDK9e0SZFY1mjyXd3FPTgAfYHgXeB7hYKfVeI8f1AB4HbgeuVkodLSKLgKlKqQ0i0hX4VCk1WERuAFBK/Tl27HvArUTVYJ8opYbE2s+IHX9xqrFbK/eUIrogCJ2cR/CsQnBJyzynFDizslHrPbXVSRLuN7hHEY9ee3pd9PQLn//In5/5uNH+3ZbJxKG9ufuXx6XcLxJxOOz6B9hW1dB1tVthNm/+8QK2lFfx0Q9Lse0I+4/qF1dh7/nPfuTulz8nGLJRRNVenfOzeOqGs9IWHBHHocofIsvnTmiUTwelQhB4GxX4AIx8JON0xJU8qFGzZ6HsFVH3bGuQXommSavknlJKvSsiA4EhsaaFSqnGKwnB3URTqtcv7tBZKbUh1u8GEakt8tCd6EqilrWxtnDs847tcYjIRcQi1Xv16pXG9NIj0t0i0tkF2yJQZCX19kwHETDHVaLKa3C2uFHzMknU4aK1W/jT0x/yy2Mn8+Py9dz14mdp9R+yI3y7YBVby6tTus4+88kPcQIDYH1JJXc88zGvffMTEI0wv/f1rznv8HFcfNQkAGoCIe5+6fMGgYHBsM2mbZW8+PmcRjPXKqV48oNZPPTuDILhMF6XiwuPnMBZB4+lOhBi5aZtdM7LauAxlrifEKr0LAgvBvyAgfK/jsq+ESPz9JTHthcqshns5WD1Qsxu7T2dDouyV6G2XQqRtSAm4IK8OxHP1Pae2m5PU0Tv3kRXGBawl4iglHoi2c4icjSwWSk1S0SmptF/oluxStEe36jUA0RXRIwbN67Fodu1HRhlNirXhAKzRQKjPpIbwcjyE1mcAeHEnb45fQFvTl+AyzTqckulg8sy2VqRWmi89nXiUrEAL3zx4w5lYR0ef28m+4/sx9BenVmwenPCxVYwHOHTH5c2KjSe++xH/vPWN3UuwWE7yH1vfM2MhWv4bvFqLNMkbEeYOKw3f/75kfgSuBUD4H8d7FqBEZ0nBKDydpTvaMRILXR2JkrZqIpbwP8miBtUCOWZguTdjUj6MTuaxlEqgio9B5zNRP3bY+3broRObyJW6z1Q7omkpRMQkSeJelJNAcbHXo0VQpgMHCsiK4FngYNE5H/Apphaith7bTqStUDPesf3ANbH2nskaG9z6u6LAbAW1CCb4iOoW0REkgqM+jRFYEBU7dNYcaNwJEXGxATiNmRHePe7RQDUBEP4k9Q4z89OnCerPg+/Mz1hDMmX81YQDEeoDoTqVky//9/7yacZeCdxZLi4IDyr0XnsTFT1g+B/CwiCqoy+B79EVfy5vafW8Qh9G7vGO/7f2Cj/c+0xow5FuorkccBkpdQvlVJXxF4pU4gopW5QSvVQSvUhauD+WCl1NvA6cG5st3OB2oCC14HTRcQTM7QPBGbEVFmVIjIx5jX1s3rHtAp990r85FF37zRBeQ2Uz4jmnmpmCdYGfdvgLMig1ZYuMbxui4uPmtRorMWBe/VPui1RphSFqstf9dW8FUmPnZqiX4iqpkoqalLuU0soHOGT2cuoCSSomwxg5JB0ISq7WFR7zZNAYIfGIPhfQiUMVNQ0G2criZURNkQ27OzZdDjSFRo/EY3TaA3uAA4VkSXAobHvKKXmAc8D84F3gcvU9v+mS4GHgKXAMlrZc2rFnNUJ2+viNPKMqHrKVtHGlhjCHVDVBs6PWaiVjT+Vp4shwvDenfnj+UekVQ3vnEPGYSVwH3aZRsKqfx6XxWHjBgOwYmPi1CVuy6CgkZWGiNCrOK/R+dXfv9Kf2HwmGWcCCVQ7kgmuXaw+mJMsT1gsOFHTeriSZAwQH+LZb+fPp4ORrtDoBMwXkfdE5PXaV7qDKKU+VUodHftcopQ6WCk1MPZeWm+/25VS/ZVSg5VS79Rrn6mUGhHbdnn9glCtQpLeapvNTQ6ep0swNoSiVftaOLyzMAO13gumExsl/f48LotuhTlYppDhcZHhcVGcl8Xzt5zDk9efyUFppgApyMng3itOItvnxm2ZuCyDgiwfD11zKjeccTAel4nLNDANweOyOO2A0YzoE31u2KtfV9yJqvuJ0D9Bjqwd+fWJ+8fFkBgiCdcMmV43RbmJbRPiHg9ZlwMekKyosDA6IfmPEC0uuQvh3puEqyJrACLaTbk1Easn+E4A6ge8esDsCd6j2mtaHYZ0XW4PSNQeC/zbJWlNl9vgUBfBX3WBIhd4jBatNOr69RuoChMpcRFZ0rgqxTQEyzTYZ0gvMj1upozsS6bHTXaGh9H9u2M0M/uuHXFYsHoTpiEM6dm5rp91W8v54PvFhO0IB4zqX1cECqCkopqTbnucKn+oru6312Vx0JgB/PH8I9Ia9+v5K7n3ta9YvbmM3sV5nDZ1NH994VMCIRs74kQDKt0Wfzh3GgePHZiyL+WUQug7kBxw74NI2xWRai4qvARVeiqoENHVhQm4kYJHEPfe7Ty7jodSCgJvomqeiqbO9x6FZJyNGLuY2nIXpDGX27SExu5IawiN2jVA4NwCwsflg1taLTW6x7Do7M3DWpfJ4i9q6hYbmV4XU4b35ccVG8jyuulamEOVP0goHGHJ+q2E7QhKgc/tYuLQXvzt4mPaJZJ7zZYy/vnyF0xfuIoMj5vTpo7mZ4eOw2pC/fQd2VBawWPvz+T7xWvpUZTH+YeP37VTtDcRFVmHqn4EwnOicQOZv0Csfo0fqNHsRFokNESkksS6EwGUUionwbZdglYN7ssUAmfkRwWH0bLgvlrchkXB4i5sWWwTDG/Xv3pcFuccsje/PHZfIo7D1/NWMnPxGp75ZHZcwSWfx8XfLjqGScN6t3g+Go1GAy0M7lNKZafa3tGplZZ2N4vw6MyoIdxFqwiNYMRm7cJA1O22fnvY5vnPfuTcw8bxi78/x9ot5QmLJQH4g2E+mb1UCw2NRrPT0HH1aWBudvC8U0bwtEIotJpcIzwpSZxmaoIh/vvmN6zcuI2QndyzxjSELF9yI+raLWXc+fwnTF+wGpdlcvTEYVx1wn7Jg+U0Go2mEXYxF5NdizqX284mTi8vxuogBJ1WERgiYOQlFgij+nblne8WphQYAJZpNkhAWJ/y6gDn/OUZvp63inDEoSYY5tWvfuLKe19t6dQ1Gs0ejBYaaWAuDuH6vAJVEPOeaiXngfFTi/G5XZgx47plGmR4XFx32oEpj8vwuHBbJtPGD2bx2i1UJwh+e/WrnwiE7DrvJohGdc9btZGFazbH7a/RaDTpoIVGGjj5gtPNBeGYIbqVvJVWWGt5+sYzOWHyCEb27cKJU0by3M3nMKhHEUeMHxIXCyFA3y75HDJ2EEopPpi1mD/87wMO++0DfDN/VYN9F6zeRDAcn+rDEGHZ+pJWmb9Go9nz0EIjBbUut8oF9mAfqrsragxvJQJOmKAvyI1nHsLNZx7CkJ5Fdak6Lj56En27FJDhcSESTXnu87o597DxvDdzUZ3KqSYYxh8Kc81/X2+w4hjUowiPKz5eQSno00heKo1Go0mGNoSngXIZWPP8IAr7iNa74drKIRiyOfLGh9i4rbKufWCPTjz127N46oazuP+Nr3ns/ZnRQlCRCL9/8v2E2rFg2OYXf3uO2847nME9ijlhykgef38moXCkzgvMbZkM6F7IsN6dW+0cNBrNnoVeaTSCEC3RGunpwp6aE1VRtZJNw3EUl/zx1QYCA2DJ2q1c++AbVPmD/O+j74k4DmE7QjAcwVGJA2eUgsXrtnLG7U/xzCc/kJ/l4/HrTmfsoB4YIjEbyBDuu/Kk3a6sq0aj2XXQK410EDBXhzHv2kjg6i5gtc5N165R2MHEKca/mLucz+curzOSN4W/vfApp+y3F326FPDgr0/BcRQiaGGh0WhajF5ppKC2Pnh430yCZxQQPLMQ48fq1jGEO+BsSh5j4Sj430ffN/B+Shel4IufltV9NwzRAkOj0bQKWmg0ggDeF8vJumQ11lw/zj5ZzVJPGfUynIoCZQvOktRpxFduLCXcSKxGMrxunTlVo9G0PlpopIGTbxD4WQHhSZlNyWJeh9dwcXzP8YzI7UlXbx4D6Yn6rAD8qbOxhuwIXpeFx9U0LaJlGviDIX5Yug7H6ZgJKTUaTfugbRopqL3dSo2DtTyEKvJjT8wEX/qptw2EAdlduHro0biN6OX+w/8+YH7NT2kdLyLce8XxXHDXC+nPWyl+98T7KKXIyfTyn6tOblLhI41Go0mGXmmkoM6mMcSFPdSL1EQg0LQn9z6ZxTww4aI6gREM27wzY2FaxxoiTBnRl2c++SFlUVhTYHS/bhw8ZiBuyyDiKKoDIWqCYTZtq+SKf79CR02Br9Fodi5aaKRAERUc1iobKbdxurjB3bQiTD/rtz+WsX1lUlEdSKnhcpnRfT0ui9xML1ccP4XP5ixPeUxEwZL1WwmGw4TshunTlYKtFdUsXrsl7TlrNBpNMrR6KgUCOCaEDsghdFwe5MYuV5pZbju5szmi2+i67yHHxvCAyzJIlO18dP9u7D2wB8s3lDCyb1dOmDKSnAxP2quEjaWVCdsNEar88fmp2hLHUfy0ciP+UJhRfbvqzLq7IcopB1UNRtcG3nfKXgaRLeAaihi57ThDTXughUYjGBFwzQ/AR1UoA5RPsKflpXXsLSOjgXTBSJi/LXiDd9bPRimFe0gO7p/chMLbVwWGCKWVNdiOw41nHkxhzvaylFNG9OWzOctTjhUM2/TtUsDaLeUEdsg55TiKYX3io8BDYZsXv5jLm9/OxzSE4yeP4Lh9R7So+h7AknVbueLfr1DlDyIiRByHm844hKMmDm1Rv5qdg3LKUGXXQugbwAAjF3JvB9cI1LaLIbwIxAUqhMq6CCPrivaesmYnosu9krpyXy12J5Pqu3pAYeyJOY2VhgBFnlwEKA1VEVbb3WfVWg8FK7tQXhGsK+EK0RoZORlenr35bIpyswD492tf8si736V1LgAel0kwHIlGgrtMrj/9II6dNBx/KMz7Mxfz3eI1dMrO4LM5y1m9eVud6ss0hElDe/PPy45HRCivDvDyF3N5+7sFbCmrwjIN9h/Zj6K8LL6Zv4qcTC9nTB3N5BF9gahwmr5wFdc9+FZc5l2Py+LJ357BgO6d4ua7uayKf778BV/+tAK3y+SEySO54Ih9cNfzGlu0dgsvfDYbO6I49YC9dstUKCo8F1V5N9iLwOyNZF2JeCa097TicEpOhfA8orXMa/GCNRDsBUD9hxIfkncn4j18505S02boGuFp0Fi511oCx+YQuqAoanluhWA5A8F4twuBBFHhJ04ewc1nH8q2yhqOuPGhRmtr7Mh+I/pSmJPJKQeMYmivzsxZvoFL//ki/lDiCPRaROCxa0+nIDuDc+54moqaYMoAQ6/b4rzDxnP0xKFceNeLlFZWNyhfW4tpCKccsBfXndow7XulP8iJtz5GWZWfSMw92OOyGDeoB/+6/ASUUtz0yDu8O3NRg+P2HdaHey47HqOVara3NSo0C1V6PhCo1+qFvH9geA9ur2nFoeylqK0n0nCesN386RCHayxG4bNtPDPNzqJF5V41UZxCk9BhOYQOzG61GuEAkYgiZIchgW/Ue7MWc/PZhzJrydrmhIYwaVgv+nbtxKPvfUeVP8iPy9Y3KjAgaq557et5lFRUU96I0R4gELJ55N0ZfPTDEjZtq0wqYCKOYltlTVz7G9/MpzoQqhMYEFW1zVy8lqXrtrK+tIL3Zi2KO+7r+St5/Zt5HD95RKPntCugKu8g/kYcgMrbUZ6Ddp2I/cj6mOppx7k6JPWbcUrbelaaXQgtNBpBACmJ4H6lDOWC8GmFrdd5be71BPhDUdVApteD3Yyo8Effn0llTZBAGoJiR6oDIb5dsDptYWWZBis2lqZckfg8LqaOGhDXPmf5+oRzNA1h8botvPntgqQB+E9+OHO3ERqEk7hZR9YDIcCzM2eTHGsoqGCCDS6iQmPHbS7wTG3zaWl2HbTLbRoYgBFQWN/XQEXz0nokQiwgP4EbFeCJFWAaP7hns/reUlbdLIEBsP+IvglrcSTDUQozxZOy120xoFsnDhobLzT6dS2MKzYFUVnavVNuyjQqidRguyxGkocN8RG9Ie8aiFkEGafF5lWLBUYOZN8MeNm+MnaDkYdkXrzzJ6ppN7TQSIGq93K6WgQv6LTd7bYVMMWg+wBfwm2OUhx+wwMcfdNDdM7PanLfPnfz5unzuDhk70EcO2k4rjS8qAwROuVkkumLz3UlAt0Kc7j2lKk8+OuT62JQ6nPilJG4rIbjWKZBz6JcRvXtyin7j0o69jGThqVxRrsImZcAO/7WPsg4H5Fd699Qsm+G7Juihm+jGHwnIoWvYmSehhQ8Cd4jwTUaMi9GOr2JmK24+tbs8mj1VCOEgOBDPVFdY+qDNGM00mFi4UCu2+cEfrH4ebZV+wnWWxkEwxG2lFUDUTMKbI9Qb4xfnzCFB96Z0eT5dMrJ4NFrT8Nlmfzy2MksXb+VH5asIxxxcJRCgPxsH9WBEJZp4jgOXQpyuOey41mzpYyr//M6dsTBjjh43S4652XxxPVnkO1LrnrplJvJg1efym1PvM/S9SWIRI34t5x9KCLCIWMHMfrT2cxetr7BcV0LsvnZIUltdbscknEaSm2D6v8CKvp3lHEGknVZe08tDhFBMk6FjFPjt7n3Qtz/aIdZaXYVtPcUyb2naq9MpLsLp4+HSJ5B6JJOkOCJuakYwB1jzmJq5+GEIxGu/e8bfPnTyqR2AZdpMHpAd0wRTNNg6l79OWzvwUxfuIofl28gElEM6tmJQ8cOwu0ymXb9g2yr8jfowzKETrmZhCMOg3sW8/PDxpOd6WHlpm0M7lFEr+J8qvxBFNTd6Jes28rSdVvplJtJv64FFGRnEAxHWLRmM1k+N/26FtYZcddtLeelL+ayobSCCUN7MW3cELxNWPHUBEKYphGXoLG2Hvozn/xAKBzhmEnDOWm/kbgSqLV2ZZzQLCi7GZy10Sf4nJsxvAc2fqBGsxPRLrdpkMrl1gEiXU2CFxYT2TsjWoCplVYaGVuyYHYeORke1m2taHQVMbJvFx6/7oy0+l68dguX/+sVaoIhRISaYBjLEMIRB8MQ3KbJNaccwEn7RdU/60vK+b/H3mPOig0ADO1VzB/Om0avYl1PvDVwAh9C2S/jN2TfhpGZ3m+q0ewMGhMau5YydRfEAMwNEVxfVUGZ3WoCA6C6oIqKYIC1aQgMQ4TuhemnbBjUo4h3/nwB/7r8BE6YPAK3ZRCORH3sHUcRCNv87YXPqPIHCYVtzvvrc8xetr5OvfTTyo2c99dn8SfKd9JMwpEIESeBn/+eQPm1idsr/7Bz56HRtBBt00gDAzBWBLFWhLHzXa1W7hUFuJ1G62oAuF0m5xy6d5O6Nw2DMQO68+h7MxJ6GlmmwY/L1lMdDFETCDVQjSkVtau8P2sxx+07vEnj7siqTdv4w1MfMHvpegxDmDqqPzeeeTB5WYmdADokqjrJBhsnUoFh5uzU6Wg0zUWvNNJAAUZZGKfQBJNmVe5LiCMQaPwnyM/ycfv5RzC0V/NSZ2R5PQlTqysUPo+L9VsrCIbj3XP9wTDrt5Y3a8xaKmsCnHvns9GCUEphRxw+nbOMC+56XheIqmMXCezTaNJAC400kVJFxq3rsd4pa5X+lA3OvExQqW8YPreLm846hANHx8c4pMtJ+4/Ck8Ag7XO72Kt/Nwb3LE5YHTDD42Jwr+JmjwvwxrcLCNl2AzlrRxw2llYyc/GaFvW9e5HMg0wQo+ku1RpNe6GFRgoUUUO4yoHwAZnU/L479uG5LbZrqCoDZ1YOanXj6hnbcdhQUtGi8fYe2IMLjpiA2zLJ9LrJ9LrJz/Jx7xUnYhoGE4b0onfn/LggO0cpMr0tCzxbvqEkYZCh4yhWbylrUd+7Fdm3JW7PvHzXSSGi0aSBtmmkQAAnRwgcn499WDZkW9GgiZbGamQ44HWwLMHAwO2y8LottpbH673DdoR/vfol60sq+M0pBzT7BvPzaftw/L4jmLVkLdkZHsYN6lmXAt0whAd/fQp/euYj3q5XVTAQsvn1/a/zx/OmcdCYgc0ad2ivYnxuKy7vlRjCwG7xGW87KkbmiTgSgYo7gQrAC1lXIJm/aO+paTRNos1WGiLSU0Q+EZEFIjJPRK6KtReIyAcisiT2nl/vmBtEZKmILBKRw+u17y0ic2Pb7pGd+GhmVih8L5WScddmPA9uxXvb2havNHLcXp68+Ge8/+eLOXn/UWT73Lgtk+G9OydUE4XsCK98NTcuwK2pFORkcOjeg5g4tHdczYwMr5tN26rijgmEbP76wqfNLhd7xPghZPo8mPWy0botkwHdChnVr2uz+txdMTJOQTrPQIq/Rzr/gJF1gV5laHY72lI9ZQPXKKWGAhOBy0RkGHA98JFSaiDwUew7sW2nA8OBacB9IlKrL7kfuAgYGHtNa8N5xyHVYH3vx5pdTeA33ZrdTw9fAb8beQrvHXQTg3O68ct7XubFL+awobSS9SUVLF67hdwMT8L0HcFQ+rXFm8uC1ZsStm8tr4mrj5EuGV43/7v+TA4eMxCv2yLb5+HE/UZy/5Un7ZE3TBFBjMxdLnWIRpMubaaeUkptADbEPleKyAKgO3AcMDW22+PAp8BvY+3PKqWCwAoRWQrsIyIrgRyl1DcAIvIEcDzwTlvNvcF5xN7tviY1f+sFPrPZ6qkNgTLuWfg2dy14A2OTj/KNLuzw9if4cMRhc3k1RqK+Y00Rx8E0tt9wIo7D90vWUV7tZ8yA7g0q/tVS6Q+ytbyaboU5cSuZ8uoA38xfydqt5Q36rY/LMvC6420bSil+XL6eYDjCXv26JY3+Ls7L4o4Ljkq4bU9CBT5CVfwBnI1gFEDmbzAyT2zvaWk0TWKn2DREpA8wBpgOdI4JFJRSG0Sk1j2nO/BtvcPWxtrCsc87tica5yKiKxJ69erVimcAqqsH2RBG9RBwN+8pMaIctoWjdovIZgMVNknkbpkolYggvPTFHF75ai45GR5CEYfCLB+byxtms+1WmMPLvzsPt8skbEe4/ekPefe7RVimgQIuPHIC5x02HoA3v53PH5/6gLDtJA0u9LosTj1grzh11kc/LOHGR96py0JriPDrk/bjrIObFkuyp+AE3oOyq6grYuRshcobcFQlRta57To3jaYptPkaWUSygJeAXymlUrkBJQ4lSN4e36jUA0qpcUqpcUVFRU2fbIpJWYtCZNy6Hter21qnX58TjflIgWUYdTdrRykUsWJGVQGq/SFWbymP80xaX1LBibc+CsBfX/iU92YuJmRHqAmG8QfDPPDWt7wzYyHrS8q5/emPCKUQGB6XybH7Dufy46Y0aF+3tZzrHnizQdpyRynueulzfli6rknXYY+h/Bbiq94pqPprs+1FGk170KZCQ0RcRAXGU0qpl2PNm0Ska2x7V2BzrH0tUL94RA9gfay9R4L2nULtv7OU2Kgii/C09FN5pEK6B0FSVGGKccCofgmN46lYX1rJig1beeOb+XFBe4GQzcPvTue9mYtwGknp8ehvTuf60w+KW2U88Na3CWetFPznjW+aNNc9BlWWZEMIpeIrGmo0uypt6T0lwMPAAqXUXfU2vQ7UrsfPBV6r1366iHhEpC9Rg/eMmCqrUkQmxvr8Wb1j2pzalYaTA8FzCiCndTR64lKY+5Wl/AVsx6EwOzNhtHZjzFqyLukT7NbyGgIhG7sRoWGaie02qzYnX21tKqtMf5J7FKlsYNrzXbP70JYrjcnAOcBBIjI79joSuAM4VESWAIfGvqOUmgc8D8wH3gUuU0rV6j8uBR4ClgLL2ElG8AZUgmy0IdJ6CfckJ4IxqYxkqw2XaTKwe2FSA3UqJgzpTXZGfBSyAHv168oBo/olrJhXi2kI/bsmjqOYMqJP0uP2G9GvqVPdM7CSFJMyemAYu0ipV40mDdpMaCilvlRKiVJqlFJqdOz1tlKqRCl1sFJqYOy9tN4xtyul+iulBiul3qnXPlMpNSK27XK1E5XAtQMFT8vDPixne0WkFnSoal82qPUekj2FnnHgaF78Ym6TM8P27pJPz+I8rj1lKt56qi1DBK/HxeXHTyHL5yGSIvfTlcdPwUhyrqdNHUOmJ96byuu2uOioCU2a656C5N8NZOzQ6oa8+9phNhpN89Hr4jSI9HRhT8yCbRHwCGQ1/7JFFvpQJe5ossIKCyKJb8wnTh7BfiP78uRHsxJuNwTclkX/bgUsWL2Z2vv/6P5duf+qkwE4bNxg8rMzePDtb1m3tYIRfbtw8VET6de1kJseeSepMPr7xcekzHWV7fPwym3nc9v/3mfGgtUgwriBPfjjz6eRneFtwtXYcxCzOxR/hqp5EUKzwT0E8Z2GmHtOVLymY6CFRhqYa8Jk3LkR/6+KcYbu+LTYRCpcUBJfT7s+XrdFaZWfj35YmjSh7vA+XXjo6lPrqtfZEQfTkLiAufGDezJ+cM+442cvW5ewb5/HRb+ujdd87pSbyb8uO6HR/TTbESMXydJpQzS7NzosNQ2UG1SxhVESgfXNi4yuRfr6wUytXQuEbKYvWM2aFAn9TMNoUO7UMo0mRVh3zs9O2B6JOOTvSXUuNBpNk9BCIw0kBFLhEOnvgZ6eFtXTMIrDuAcFG+RiSoQ/FKYmEEoaeH5wMxMI1vKLafvERXB7XCYHjR5ATqZWMWk0msRooZEG4ZEeqm/qiurujgqMFjhQWWLSeaRFOqmHOudn069LYZyZPDfTywmTRzR/EsDkEX35zSlTyfJ58Lkt3JbJQaMH8n/nHNaifjUaTcdG2zTSwNwUxthmo3wG1oxqwqN80CW1XQKiAmLvgr5ku3x8uXkhIuA2XGxaFsRWiVOI1OJ1W5wwZSRDehbx9xc/473vFmE7DpNH9OW3px1Ihrfx8RvjxCkjOWbSMDaWVpKX5SPbp10/NRpNaqSjpjAYN26cmjlzZlr7HmqcknSbAjBAZRmE9/YRPKkA1a9x9c2ArC7cM/58Onm22w5+OeNhZm9bQWiZG2deVtSDagdMQzANgzMPGsOVJ+yX1vw1Go2mtRCRWUqpccm265VGGkQGuAkelUeknwfVt/GncZeYXDf82AYCoyRYyY9lK7GVgxSHYV6C40yDMw4awyn770X3Tq2TrkSj0WhaE23TSANjbQhxQPVuXGB4DRe3jjqF0fl9GrRX20GsmCFDsiJIPz+YDtG1jMIyDPKzM8jN8NA5v2k1o6v8QWYtWcuqTU1Ppug4iqXrtrJ8Q4lOnLcbo5wqlPK39zQ0ewBaPUVq9ZQDOH1chCZnEZ6UAX19jdbSEKBHRiFdvHn0z+7Mab33pYsvjyM/+TPbQttLuqoSF5FVHqi0oKxhhHW2z01upo8LjpzAsZOGJx3r0fdm8MBb3+IyTeyIw8Dunbj7l8eRn914PMmPy9Zz9X9fp7ImCEB+lo97LjuewT2LGzkyyrbKGl79eh5L1m1hWO/OHDdpeMrgvkVrNvPoe9+xfGMpw3t35vzD96FXcV5aY+1uKKUg9AWq5llQNYj3GJRnP/A/D+G5YA1CMs5CzC4tGye8GFV+PdixAl1Wf8AHYiK+E8F3AiJaoaBJn8bUU1po0LhNI9LXReCkAiKTM7fX0kgzJsISA5dh8q9xv6AsXM3Ns5/Fb4cRA1QECAuRTwsgmHzRd/SEofz+vGixwkDI5r2Zi/hpxQbsiMN7MxcRqJfQ0DINRvbtysPXnJpyXmVVfg67/gHsHXJpeVwmH//1UnwJ0oTUZ/mGEs7/63OEbJtgOILXbeFzu3jy+jPpVpgTt//0hav59f2vEQpHcJTCNASPy+KR35zGoB6tk8Z+V8KpuBP8T0Hd07+XaGkYEwgBbhAXUvAU4hrWrDGUsw215RBQyZJE+sA9Dsl/aI+skqhpHo0JDa2eSgNjRRjrvTLYEoLVTQvus5WDPxLmT/NeZv/iodw++CzUGg/OFhfOogwiH6cWGABvTl9ASUU12yprOOm2x7nzuU946cu5vP7tvAYCA6KR4fNWbWRjaepss098MCtOYAAEwxFe+mJOo+d1+9MfUuUPEgxHc0oGQjbl1QH+/uKnCff/8zMfEwjZdQWmIo6iJhjm7pc/b3SsVChlo/xv4ZT9Gqf896jwohb11xqoyDqoebKewAAIABGiAoPou6pGld/S/HFqXgEVTrGHH8KzIDS92WNoNDuihUYK6mppAJ65QbKv34DhkmaVel1VvZUqO0D/rM44s3Nwvs5DLcmEcHo/wUffL+Ffr37FlrIq/KHojSLZItEyTcqrU+u3Zy9LXixp1pK1SbdBVDD9uGxDXG5eRym+nrcqbn9/KMzarWVJ5tH80ihKhVCl56AqboLAW+B/GlVyCk7NS83us1UITQdppMJWLfY8lGpmloHICqLCKAWqBhWa0bz+NZoEaKGRAgGUAYHDsqj+UzcqH+uD0yW12iYZBoLbsOhWmNtoNHgiCnMz+eTHpY3WwIDovPt2KUi5T8+i5N5ZvTvnpzzWEEmaATdRunW3ZeIyE/+p5bYk+tz/JoTnQ10RIwcIQMVtKKeq+f22FMkldf2M+lg0WsIx2TCuvYDGUr54ECP176nRNAUtNBrBcMD7fhXeB7aA32lWanSXmBzYeThuI2qQvOOCo5p0vGUaHDR6QFwFvR0RokGB1506FXcj1f7OP3yfhAsmETjroLEpjzUM4dCxg+IEgdtlcsykeP28aRgcv++IuAqEXrfF2S2oKa4CbwMJVlRiQfj7ZvfbYjz7kZ43uwu8RyHprkp2xHcUGHmpxxIzup9G00pooZGCBsVYq2yM1SFIUYMiGYWeLH49dPs/7sFjBvLhnRen5VprGsJ9V56EiHDcpOG4XQ1vMIZAj065DO/dmYPGDOT+K0/imBTeVrX06VLA1ScdgCGCEBUWpiH839mHUpTX+LyuP/1ABnTvhM/tIsPjwuu2GNW3K5cdNznh/r8+aX+m7hUt/JTlc+N2mZwweQRnHDim0bGSIplJNiiQ9ku6KOJGCh4Do1N0jpIVnY85DPBEv+MF115ITvNtGiI+pPBl8B0fXd1IHtGVR0Zs3AIk/0HESL3q1GiagvaeIrX3FECkuwt7uA97pAd7Sg54miZr3YbF4JxuPDTh4gZeLIGQzUV3vcBPqzY22N9lCkdNGMbIvt04dtIwzNgTfSBkc8W/X2H+qo04KnqTL8jJ4JFrTqNTbrIbaGo2l1Xx+ZxlGIbB1FH9KchJP/W7Uoq5KzayevM2+ncrZGivzo0eU1JRzfqSCnoX57c4MaIKfovadjFxqw2jE1L0RfOf4FsJpRwIzwYVAPdYRLwoeznYS8DsjbiGtM2Y9nzAAWt4u18Dze6HdrlNg8aEBmxfcVT/rguRCYnTiqfCZZj0yigkz53JcT3Gc1jXUVTVhLjwHy+wZN3WBvv2Kc7jrkuPo08Cu4RSip9WbuTHZetZvHYLa7aU0bUgh7MOHsvwPi3z+d8dcaruhar7QWptTW6k4NFmu7FqOg5K+SH4edSLzT0ZMTuea3d9lL0G5X8BIhsRzxTwTkOk6TnqtNBIg0ZzTwFONxP/FZ2JjMpolvdUfbymi750Zf6rgaQlVy0zqpYaNyhaQOmrn1Zw10ufs2rTNvIyvYQiEUJ2hFA4ggh4LItbzj6UI/Zp/afXXR0V2RL1WDJywD0JkeY5K7Q1TuAjKLsWqAa8kHUTRlbqeBpN81ChGbFVaG1DGLJ/jZHZsYpgqUgJyv9cVDiGa13lbSADrF5IwbOI0bTCcTpOo4UoA6p+2YmqB/sSGeGDYAvyoscIRMLML1mXsva3HVH8/n8foJTiu0VruPaBN1mxsRRHKUqr/FT5Q4RiMRJKQSBs8+dnPyYcibR4frsbYhYhvqMRz/67rsCoegjKLgWqiD6K+KHqZpyy29p5Zh0PpQKobZeAqt7+IgSV/0SF57b39FoNZS9HbT0cqu6LOX7YsRdADdgrUDX/a/VxtdBIgQLEgaz7tpJz1FI8d62P2jNaYXWmAo1f+k2llZRV+bn39a/igvgS4TgOKzaUtnhumjag6q+J2wNP7dx57AkEv4S4KCKAEKrm5Z09mzZDVfwulg0gWZxPMBq/1MropDQpEKKe/+HxPoJnF6K6uqN/i81wu40jq3EhEI44KAUrN6YnCGzHISdF7idNe5L8QcOxN2JYe549qs1QyQIeHaAmybbdi2hus+9I9XcFtIkXoV5pNIIBWAsCeN4ox5xV1ToCA5A06h0ZInz0w5JGg+0g6kk1rFdnuhQ03UivaW+a5/mmSYJn38TpVSQD8Uzb+fNpMxpTxfqQjDNbfVQtNFJQG6ehlCJwZg6R/XOiqqkWqqdUGCLTs2ksathRii9+WkGwEdWU2zIZ1KOIv150dIvmpWlLkhkjTQxLC/rWRIwCyP4t0SSRtQlGM8C9L3gOaM+ptRoiEo3PIZF3lAV4wHcMeI9p9bG1eioFteopIwxZv1pPeO8MgmcWQvf0yqKaCJFEy0cL3F0cQiWNHG8IKzeWsqkseUoMyzC4/6qTGDOge1pz0rQTnd6HrfsRp04oeLFdptPRMTLPQbnHo/wvgapGvIeDez9EOs5zsmRfH437Cf9ENG22DWYfyDwbcU9ErN5tMq4WGo0gQCjLIPirYlRPNxSl7/dc4Mlmn8IBfLBxDiFn+2rBY1ocd9AInpm3LOXxLtNk47YK7EjilY3XZTFtnyFaYOwGGFYxdFmEU3k/BD8E13gk57c6ZXkbIq4hiOum9p5GmyFGJlL4FCo8H+zlYPVHXEPbfNyOI3bbgNpbtbvUwf1pJeJpWnRtebiGI7uNJteVgSkGXsOFx3CxV35vrhicWrdqGsJNZx2MkeTJSICfHTaOG884uElz0rQvRvalGJ1ewsi9XgsMTasgrmFRl/OdIDBAC42USOyl8gTV1YM5swZjcfolNcNOhGu+f5KtwUoiyiGCw5SiIdw7/he4Gqmm1rUgm0PGDCQvK977wRDhyH2GcMnRkxpNYqjRaDStib7jNIICpEzhfaoUKbNxhjQhNxOKgBNGxdYsYSfCV1sWsqB8HTc89DYuM/mT5vrSSt6ftZhbzj4Ur9uqS0XusgyyMzxcemzixIAajUbTlmibRiMoILyXh8D13SDHjHpOtUCtEHRsXlk6ky/nrSacxFYB4DiKj2cv5R+XHsfj153B/z6cxapN29h7UA/OOHBMsxMUajQaTUvQQqMRBHD9FCTy3jbCh+VDtglG8wWHJQYl2/w4aaRY31JWxVfzVjJpaG9uO/fwZo2n0Wg0rYlWT6WB4wLcJmQYRGs1NH+lYYgwMXdQWraIBas389sH3+S0Pz7J5m2pa35rNBrNzkALjXQosraXeW1hRHjPjEKOHDUcj8tqtCCoAmqCYZZtKOGIGx/iqntfpby6kZrQGo1G04ZooZEGxoYI1vd+CDmNpnppjDU1pTy/9msevPoUehXn43Vb+Dwu8jI9HDNxWFKZpICv56/i8n+9TGVNgCc+mMlV977K31/4jDVbylo2KY1Go0kTXU+DxoswKQMifT04XUz8N7U8kK6rL5/XDrgWpRRrtpQRtiP07VKIPxTmwN/cjx1JnjLdbZlkeF34gzbBsI1lGlimwb8uO4G9B/Vo8dw0Gs2eTYeppyEi00RkkYgsFZHrd+rgDkh5GP9vu7ZKWvRwLDpcROhVnE//bp0wDCHT62Z4784pg77CdoSKmmBdPio74hAI2dz65Pt01AcAjUaz67BbCA2JFjq+FzgCGAacISI7pZ6nAhwPVP21Z7S+SQo32fp09uTS2ZMb1+4Sk4M6j0h63O/Pm0ZORvLcVgoSel5tKatia0V1WnPTaDSa5rJbCA1gH2CpUmq5UioEPAsct7MGlyB4/7kRKmyMuX5I4S5rIAzL7cHrU6/jzrFnk2F6cBtRz2af6abYm8uFA5Kn/uhZlMcrt56HmcS4kdTmoRRe965ZtU6j0XQcdpc4je7Amnrf1wITdtxJRC4CLgLo1atXiwetFQ0CuGcHcf9iFYHj8giNiQ+sy3H58Bgujum+N+f3n4qIMDS3Oy/vfw1vrJ3FmpoSRuf35pCuo/CaqW/ueVk+zjxoLM9/NptgeHv5VssQTpgygje+XUAgtD0BomUajB/ck2xfetl3NRqNprnsLkIj0fN13OO+UuoB4AGIGsLT7fzOj2/muoP+mHBQB3C6m0QGeQlNzcEZlxkXFT4wqzNPTbkqYd8FnizO7d/0HP5XnjAFr9vi6Y9/wB8M0zk/m9+ccgD7j+qHP2jz/qzFuCwTx1H0Ks7jD+cf0eQxNBqNpqnsLkJjLdCz3vcewPrW6nzM1L3oP7ovy2aviNsmgEQEVeDG3BbB2RaBguhlMxC6+vL5x7jzWmsqdZiGwaXH7MvFR00iHIngtsw6A/nvz5vGJcdMYsGqzXQtzGFor2KdMVWj0ewUdheh8R0wUET6AuuA04FWrWP4n+/vZOPyjdx2+l1sXrWVQeMGsM+00fQe2p1lC9dQOKkbo4YPpCRUyZrqEmwVoZsvn5F5vdr0hm0YgseI/5m6FebSrTDe0K7RaDRtyW4TpyEiRwJ3AybwiFLq9lT7NyVOQ6PRaDRRGovT2F1WGiil3gbebu95aDQazZ7M7uJyq9FoNJpdAC00NBqNRpM2WmhoNBqNJm200NBoNBpN2uw23lNNRUS2AKuaeXgnYGsrTmd3QJ/znoE+5z2Dlpxzb6VUUbKNHVZotAQRmZnK5awjos95z0Cf855BW56zVk9pNBqNJm200NBoNBpN2mihkZgH2nsC7YA+5z0Dfc57Bm12ztqmodFoNJq00SsNjUaj0aSNFhoajUajSRstNOohItNEZJGILBWR69t7Pi1BRHqKyCciskBE5onIVbH2AhH5QESWxN7z6x1zQ+zcF4nI4fXa9xaRubFt98guXrxDREwR+UFE3ox979DnLCJ5IvKiiCyM/d6T9oBz/nXs7/onEXlGRLwd7ZxF5BER2SwiP9Vra7VzFBGPiDwXa58uIn3SmphSSr+idh0TWAb0A9zAj8Cw9p5XC86nKzA29jkbWAwMA+4Ero+1Xw/8JfZ5WOycPUDf2LUwY9tmAJOI1qR6Bziivc+vkXO/GngaeDP2vUOfM/A4cEHssxvI68jnTLT88wrAF/v+PHBeRztnYH9gLPBTvbZWO0fgl8B/Yp9PB55La17tfWF2lVfsor5X7/sNwA3tPa9WPL/XgEOBRUDXWFtXYFGi8wXei12TrsDCeu1nAP9t7/NJcZ49gI+Ag9guNDrsOQM5sRuo7NDekc+5O7AGKCBa3uFN4LCOeM5Anx2ERqudY+0+sc8W0QhyaWxOWj21ndo/xFrWxtp2e2LLzjHAdKCzUmoDQOy9OLZbsvPvHvu8Y/uuyt3AdUTLu9fSkc+5H7AFeDSmkntIRDLpwOeslFoH/A1YDWwAypVS79OBz7kerXmOdccopWygHChsbAJaaGwnkS5zt/dHFpEs4CXgV0qpilS7JmhTKdp3OUTkaGCzUmpWuockaNutzpnoE+JY4H6l1BigmqjaIhm7/TnH9PjHEVXDdAMyReTsVIckaNutzjkNmnOOzTp/LTS2sxboWe97D2B9O82lVRARF1GB8ZRS6uVY8yYR6Rrb3hXYHGtPdv5rY593bN8VmQwcKyIrgWeBg0Tkf3Tsc14LrFVKTY99f5GoEOnI53wIsEIptUUpFQZeBvalY59zLa15jnXHiIgF5AKljU1AC43tfAcMFJG+IuImahh6vZ3n1GxiHhIPAwuUUnfV2/Q6cG7s87lEbR217afHPCr6AgOBGbElcKWITIz1+bN6x+xSKKVuUEr1UEr1Ifr7fayUOpuOfc4bgTUiMjjWdDAwnw58zkTVUhNFJCM214OBBXTsc66lNc+xfl8nE/1/aXyl1d6Gnl3pBRxJ1MtoGXBTe8+nhecyhehScw4wO/Y6kqjO8iNgSey9oN4xN8XOfRH1vEiAccBPsW3/Jg1jWXu/gKlsN4R36HMGRgMzY7/1q0D+HnDOtwELY/N9kqjXUIc6Z+AZojabMNFVwS9a8xwBL/ACsJSoh1W/dOal04hoNBqNJm20ekqj0Wg0aaOFhkaj0WjSRgsNjUaj0aSNFhoajUajSRstNDQajUaTNlpoaDRNQEROEBElIkPacQ6/EpGM9hpfs2ejhYZG0zTOAL4kGjzYXvwK0EJD0y5ooaHRpEksj9dkokFWp8faporIZyLyvIgsFpE7ROQsEZkRq2HQP7ZfbxH5SETmxN57xdofE5GT641RVa/fT2V7nYynJMqVRPMtfSIin+zkS6DRaKGh0TSB44F3lVKLgVIRGRtr3wu4ChgJnAMMUkrtAzwEXBHb59/AE0qpUcBTwD1pjDeG6KpiGNFstpOVUvcQzR10oFLqwNY4KY2mKWihodGkzxlEEyESez8j9vk7pdQGpVSQaKqG92Ptc4nWQ4BobYOnY5+fJJrmpTFmKKXWKqUcomlg+qTeXaNpe6z2noBGszsgIoVECzuNEBFFtNKjAt4GgvV2dep9d0j+P1abv8cm9vAWSyjnrrdP/X4jKfrSaHYaeqWh0aTHyUTVS72VUn2UUj2JVsxLZ8UA8DXbjednETWmA6wE9o59Pg5wpdFXJdESvhrNTkcLDY0mPc4AXtmh7SXgzDSPvxI4X0TmELV7XBVrfxA4QERmABOIFlFqjAeAd7QhXNMe6Cy3Go1Go0kbvdLQaDQaTdpooaHRaDSatNFCQ6PRaDRpo4WGRqPRaNJGCw2NRqPRpI0WGhqNRqNJGy00NBqNRpM2/w9RGUNxM/n/cQAAAABJRU5ErkJggg==\n",
      "text/plain": [
       "<Figure size 432x288 with 1 Axes>"
      ]
     },
     "metadata": {
      "needs_background": "light"
     },
     "output_type": "display_data"
    }
   ],
   "source": [
    " plt.scatter(amounts, np.arange(0,8963), c=groups)\n",
    "plt.xlabel('Amount')\n",
    "plt.ylabel('Indices')\n",
    "plt.show()"
   ]
  },
  {
   "cell_type": "code",
   "execution_count": null,
   "metadata": {
    "id": "ggsKIsPi3mli"
   },
   "outputs": [],
   "source": [
    "from sklearn.ensemble import RandomForestRegressor\n",
    "from sklearn.datasets import make_regression"
   ]
  }
 ],
 "metadata": {
  "colab": {
   "collapsed_sections": [],
   "name": "Book1test_Copy1.ipynb.txt",
   "provenance": []
  },
  "kernelspec": {
   "display_name": "Python 3 (ipykernel)",
   "language": "python",
   "name": "python3"
  },
  "language_info": {
   "codemirror_mode": {
    "name": "ipython",
    "version": 3
   },
   "file_extension": ".py",
   "mimetype": "text/x-python",
   "name": "python",
   "nbconvert_exporter": "python",
   "pygments_lexer": "ipython3",
   "version": "3.8.8"
  }
 },
 "nbformat": 4,
 "nbformat_minor": 1
}
for clf in classifiers:
    
    clf.fit(X_train, y_train)
    
    name = clf.__class__.__name__
    
    print("="*30)
    print(name)
    
    print('****Results****')
    
    y_pred = clf.predict(X_train)
    
    print("Accuracy:     ", round(metrics.accuracy_score(y_train, y_pred),4)*100)
    print("Precision:    ", round(metrics.precision_score(y_train, y_pred),4)*100)
    print("Recall:       ", round(metrics.recall_score(y_train, y_pred),4)*100)
